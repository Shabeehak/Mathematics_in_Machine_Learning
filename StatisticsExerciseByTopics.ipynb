{
  "nbformat": 4,
  "nbformat_minor": 0,
  "metadata": {
    "colab": {
      "provenance": [],
      "authorship_tag": "ABX9TyOs5rL529Y/A4QO/hLOml5q",
      "include_colab_link": true
    },
    "kernelspec": {
      "name": "python3",
      "display_name": "Python 3"
    },
    "language_info": {
      "name": "python"
    }
  },
  "cells": [
    {
      "cell_type": "markdown",
      "metadata": {
        "id": "view-in-github",
        "colab_type": "text"
      },
      "source": [
        "<a href=\"https://colab.research.google.com/github/Shabeehak/Mathematics_in_Machine_Learning/blob/main/StatisticsExerciseByTopics.ipynb\" target=\"_parent\"><img src=\"https://colab.research.google.com/assets/colab-badge.svg\" alt=\"Open In Colab\"/></a>"
      ]
    },
    {
      "cell_type": "code",
      "source": [
        "Statistics\n",
        "│\n",
        "├── 1. Descriptive Statistics\n",
        "│   ├── Measures of Central Tendency\n",
        "│   │   ├── Mean\n",
        "│   │   │   ├── Arithmetic Mean\n",
        "│   │   │   ├── Weighted Mean\n",
        "│   │   │   ├── Trimmed Mean\n",
        "│   │   ├── Median\n",
        "│   │   ├── Mode\n",
        "│   │\n",
        "│   ├── Measures of Dispersion\n",
        "│   │   ├── Absolute Dispersion\n",
        "│   │   │   ├── Range\n",
        "│   │   │   ├── Variance\n",
        "│   │   │   ├── Standard Deviation\n",
        "│   │   │   ├── Mean Deviation /Mean Absolute Deviation (MAD)\n",
        "│   │   │   ├── Quartile Deviation/Semi-Interquartile Range\n",
        "|   |   |   |   ├── Interquartile Range (IQR)\n",
        "|   |   │   │   ├── Percentiles\n",
        "|   |   │   │   ├── Deciles\n",
        "|   |   │   │   ├── Quartiles\n",
        "│   │   ├── Relative Dispersion\n",
        "│   │   │   ├── Coefficient of Range\n",
        "│   │   │   ├── Coefficient of Variation (CV)\n",
        "│   │   │   ├── Coefficient of mean Devaition\n",
        "|   |   |   |   |- Mean/Median/Mode - central value\n",
        "│   │   │   ├── Coefficient of Quartile Dispersion\n",
        "│   │\n",
        "│   ├── Measures of Shape\n",
        "│   │   ├── Skewness\n",
        "│   │   │   ├── Positive Skewness (Right-Skewed)\n",
        "│   │   │   ├── Negative Skewness (Left-Skewed)\n",
        "│   │   │   ├── Zero Skewness (Symmetric)\n",
        "│   │   ├── Kurtosis\n",
        "│   │   │   ├── Leptokurtic (Heavy-tailed)\n",
        "│   │   │   ├── Platykurtic (Light-tailed)\n",
        "│   │   │   ├── Mesokurtic (Normal-tailed)\n",
        "│   │\n",
        "│   ├── Measures of Relationship\n",
        "│   │   ├── Covariance\n",
        "│   │   ├── Correlation\n",
        "│   │   │   ├── Pearson Correlation\n",
        "│   │   │   ├── Spearman Rank Correlation\n",
        "│   │   │   ├── Kendall Tau Correlation\n",
        "│   │   ├── Coefficient of Determination (R²)\n",
        "│   │\n",
        "│   ├── Measures of Frequency Distribution\n",
        "│   │   ├── Frequency Distribution GraphsCount (n)\n",
        "│   │   │   ├── Bar Grapph\n",
        "│   │   │   ├── Histogram\n",
        "│   │   │   ├── Pie Chart\n",
        "│   │   │   ├── Frequency Polygon\n",
        "│   │   ├── Frequency Distribution Table\n",
        "│   │   │   ├── Grouped Frequency Distribution\n",
        "│   │   │   ├── Ungrouped Frequency Distribution\n",
        "│   │   │   ├── Relative Frequency Distribution\n",
        "│   │   │   ├── Cumulative Frequency Distribution\n",
        "│   │   │   |   ├──Cumulative frequency Curve\n",
        "│   │   ├── Frequency Distribution Curve\n",
        "│   │   │   |   |  ├── Normal Distribution\n",
        "│   │   │   |   |  ├── Skewed Distribution\n",
        "│   │   │   |   |  ├── Bimodal Distribution\n",
        "│   │   │   |   |  ├── Multimodal Distribution\n",
        "│   │   │   |   |  ├── Uniform Distribution\n",
        "│   │   │   |   |  ├── Exponential Distribution\n",
        "│   │   │   |   |  ├── Log-Normal Distribution\n",
        "│\n",
        "├── 2. Inferential Statistics\n",
        "│   ├── Probability Theory\n",
        "│   │   ├── Basic Probability\n",
        "│   │   ├── Conditional Probability\n",
        "│   │   ├── Bayes' Theorem\n",
        "│   │\n",
        "│   ├── Probability Distributions\n",
        "│   │   ├── Discrete Distributions\n",
        "│   │   │   ├── Uniform Distribution\n",
        "│   │   │   ├── Bernoulli Distribution\n",
        "│   │   │   ├── Binomial Distribution\n",
        "│   │   │   ├── Poisson Distribution\n",
        "│   │   │\n",
        "│   │   ├── Continuous Distributions\n",
        "│   │   │   ├── Uniform Distribution\n",
        "│   │   │   ├── Normal (Gaussian) Distribution\n",
        "│   │   │   ├── Exponential Distribution\n",
        "│   │   │   ├── Gamma Distribution\n",
        "│   │   │   ├── Beta Distribution\n",
        "│   │   │   ├── Chi-Square Distribution\n",
        "│   │\n",
        "│   ├── Sampling Methods\n",
        "│   │   ├── Random Sampling\n",
        "│   │   ├── Stratified Sampling\n",
        "│   │   ├── Systematic Sampling\n",
        "│   │   ├── Cluster Sampling\n",
        "│   │   ├── Bootstrapping\n",
        "│   │   ├── Jackknife Resampling\n",
        "│   │\n",
        "│   ├── Central Limit Theorem (CLT)\n",
        "│\n",
        "│   ├── Estimation Theory\n",
        "│   │   ├── Point Estimators (Mean, Variance, Proportion)\n",
        "│   │   ├── Confidence Intervals (Z, t-distributions)\n",
        "│   │\n",
        "│   ├── Hypothesis Testing\n",
        "│   │   ├── Null Hypothesis (H₀) & Alternative Hypothesis (H₁)\n",
        "│   │   ├── Types of Errors (Type I & Type II)\n",
        "│   │   ├── p-value & Significance Level (α)\n",
        "│   │   ├── One-tailed vs Two-tailed Tests\n",
        "│   │\n",
        "│   ├── Parametric Tests\n",
        "│   │   ├── Z-test (for known population variance)\n",
        "│   │   ├── t-test (for unknown population variance)\n",
        "│   │   │   ├── One-sample t-test\n",
        "│   │   │   ├── Two-sample t-test\n",
        "│   │   │   ├── Paired t-test\n",
        "│   │\n",
        "│   ├── Non-Parametric Tests\n",
        "│   │   ├── Chi-Square Test (Goodness of Fit, Independence)\n",
        "│   │   ├── Mann-Whitney U Test\n",
        "│   │   ├── Kruskal-Wallis Test\n",
        "│   │   ├── Wilcoxon Signed-Rank Test\n",
        "│   │\n",
        "│   ├── Analysis of Variance (ANOVA)\n",
        "│   │   ├── One-Way ANOVA\n",
        "│   │   ├── Two-Way ANOVA\n",
        "│   │   ├── Repeated Measures ANOVA\n",
        "│\n",
        "│   ├── Regression Analysis\n",
        "│   │   ├── Simple Linear Regression\n",
        "│   │   ├── Multiple Linear Regression\n",
        "│   │   ├── Polynomial Regression\n",
        "│   │   ├── Logistic Regression\n",
        "│   │\n",
        "│   ├── Bias-Variance Tradeoff\n",
        "│\n",
        "│   ├── Time Series Analysis\n",
        "│   │   ├── Moving Averages\n",
        "│   │   ├── Exponential Smoothing\n",
        "│   │   ├── ARIMA Models\n",
        "│\n",
        "│   ├── Resampling Methods\n",
        "│   │   ├── Bootstrapping\n",
        "│   │   ├── Jackknife\n",
        "│\n",
        "│   ├── Bayesian Statistics\n",
        "│\n",
        "│   ├── Machine Learning in Statistics\n",
        "│   │   ├── Principal Component Analysis (PCA)\n",
        "│   │   ├── Linear Discriminant Analysis (LDA)\n",
        "│   │   ├── Clustering (K-Means, Hierarchical)\n",
        "│\n",
        "└── **Applied Statistics (Real-World Applications)**\n",
        "    ├── Business Analytics\n",
        "    ├── Medical Statistics\n",
        "    ├── Financial Data Analysis\n",
        "    ├── Sports Analytics\n",
        "    ├── Data Science & Machine Learning\n"
      ],
      "metadata": {
        "id": "gl0TISRI_xXt",
        "colab": {
          "base_uri": "https://localhost:8080/",
          "height": 106
        },
        "outputId": "cf4aa15e-97c6-416b-94a8-194dc463c421"
      },
      "execution_count": null,
      "outputs": [
        {
          "output_type": "error",
          "ename": "SyntaxError",
          "evalue": "invalid character '│' (U+2502) (<ipython-input-1-d3fff7164344>, line 2)",
          "traceback": [
            "\u001b[0;36m  File \u001b[0;32m\"<ipython-input-1-d3fff7164344>\"\u001b[0;36m, line \u001b[0;32m2\u001b[0m\n\u001b[0;31m    │\u001b[0m\n\u001b[0m    ^\u001b[0m\n\u001b[0;31mSyntaxError\u001b[0m\u001b[0;31m:\u001b[0m invalid character '│' (U+2502)\n"
          ]
        }
      ]
    },
    {
      "cell_type": "markdown",
      "source": [
        "**1. DESCRIPTIVE STATISTICS**"
      ],
      "metadata": {
        "id": "McAEs-VtdNpk"
      }
    },
    {
      "cell_type": "markdown",
      "source": [
        "> 1.1. MEASURE OF CENTRAL TENDANCY"
      ],
      "metadata": {
        "id": "E5wHiHzqa2du"
      }
    },
    {
      "cell_type": "markdown",
      "source": [
        ">> 1.1.1 Mean"
      ],
      "metadata": {
        "id": "NcGeAsDmdKJL"
      }
    },
    {
      "cell_type": "code",
      "source": [
        "data = [1,2,3,6,4,5,6,3]\n",
        "\n",
        "#Scratch Implementation\n",
        "def mean_by_scratch(arr):\n",
        "  n = len(arr)\n",
        "  sum = 0\n",
        "  for i in arr:\n",
        "    sum +=i\n",
        "  mean = sum/n\n",
        "  return mean\n",
        "\n",
        "result_mean_by_scratch = mean_by_scratch(data)\n",
        "print('By pure sratch: ', result_mean_by_scratch)\n",
        "\n",
        "#in-build method\n",
        "def mean_by_inbuild_method(ls):\n",
        "  return sum(ls)/len(ls)\n",
        "\n",
        "result_mean_by_inbuild_method = mean_by_inbuild_method(data)\n",
        "print('By using in-build method: ', result_mean_by_inbuild_method)\n",
        "\n",
        "#Using statistics.mean() (Standard Library)\n",
        "import statistics\n",
        "mean_by_statistics = statistics.mean(data)\n",
        "print('Using statistics library: ',mean_by_statistics)\n",
        "\n",
        "# using numpy\n",
        "import numpy as np\n",
        "data_np = np.array([1,2,3,6,4,5,6,3])\n",
        "mean_np = np.mean(data_np)\n",
        "print('Using numpy library: ', mean_np)\n",
        "\n",
        "#using pandas\n",
        "import pandas as pd\n",
        "data_pd = pd.Series([1,2,3,6,4,5,6,3])\n",
        "mean_pd = data_pd.mean()\n",
        "print('Using pandas library: ', mean_pd)"
      ],
      "metadata": {
        "colab": {
          "base_uri": "https://localhost:8080/"
        },
        "id": "gNHi3Gnkbh_P",
        "outputId": "b64bc2f0-7c1d-48e7-bb33-9d9f6f1927de"
      },
      "execution_count": null,
      "outputs": [
        {
          "output_type": "stream",
          "name": "stdout",
          "text": [
            "By pure sratch:  3.75\n",
            "By using in-build method:  3.75\n",
            "Using statistics library:  3.75\n",
            "Using numpy library:  3.75\n",
            "Using pandas library:  3.75\n"
          ]
        }
      ]
    },
    {
      "cell_type": "markdown",
      "source": [
        ">> 1.1.2. Median"
      ],
      "metadata": {
        "id": "l56dQDcfenGh"
      }
    },
    {
      "cell_type": "code",
      "source": [
        "#Scratch Implementation\n",
        "def median_scratch(ls):\n",
        "  ls.sort()\n",
        "  if len(ls)%2==1:\n",
        "    return ls[len(ls)//2]\n",
        "  else:\n",
        "    return (ls[len(ls)//2-1]+ls[len(ls)//2])/2\n",
        "\n",
        "result_median_scratch = median_scratch(data)\n",
        "print('By scratch: ', result_median_scratch)\n",
        "\n",
        "#Using statistics.median() (Standard Library)\n",
        "import statistics\n",
        "median_by_statistics = statistics.median(data)\n",
        "print('Using statistics library: ',median_by_statistics)\n",
        "\n",
        "# using numpy\n",
        "import numpy as np\n",
        "data_np = np.array([1,2,3,6,4,5,6,3])\n",
        "median_np = np.median(data_np)\n",
        "print('Using numpy library: ', median_np)\n",
        "\n",
        "#using pandas\n",
        "import pandas as pd\n",
        "data_pd = pd.Series([1,2,3,6,4,5,6,3])\n",
        "median_pd = data_pd.median()\n",
        "print('Using pandas library: ', median_pd)"
      ],
      "metadata": {
        "colab": {
          "base_uri": "https://localhost:8080/"
        },
        "id": "sIbKzuyleqQj",
        "outputId": "97b09e06-664a-44f3-cf86-f57a77af751f"
      },
      "execution_count": null,
      "outputs": [
        {
          "output_type": "stream",
          "name": "stdout",
          "text": [
            "By scratch:  3.5\n",
            "Using statistics library:  3.5\n",
            "Using numpy library:  3.5\n",
            "Using pandas library:  3.5\n"
          ]
        }
      ]
    },
    {
      "cell_type": "markdown",
      "source": [
        ">> 1.1.3. Mode"
      ],
      "metadata": {
        "id": "yUASYMpTfax4"
      }
    },
    {
      "cell_type": "code",
      "source": [
        "#Scratch Implementation\n",
        "def mode_scratch(ls):\n",
        "  count = {}\n",
        "  for i in ls:\n",
        "    if i not in count:\n",
        "      count[i]=1\n",
        "    else:\n",
        "      count[i]+=1\n",
        "  return [key for key, value in count.items() if value == max(count.values())]\n",
        "\n",
        "result_mode_scratch = mode_scratch(data)\n",
        "print('By scratch: ', result_mode_scratch)\n",
        "\n",
        "#Using build_in_method\n",
        "from collections import Counter\n",
        "def mode_inbuild(ls):\n",
        "  count = Counter(ls)\n",
        "  for i in ls:\n",
        "    if i not in count:\n",
        "      count[i]=1\n",
        "    else:\n",
        "      count[i]+=1\n",
        "  return [key for key, value in count.items() if value == max(count.values())]\n",
        "\n",
        "result_mode_inbuild = mode_inbuild(data)\n",
        "print('By scratch and using inbuild method: ', result_mode_inbuild)\n",
        "\n",
        "#Using statistics.median() (Standard Library)\n",
        "import statistics\n",
        "mode_by_statistics = statistics.mode(data)\n",
        "all_mode_by_statistics = statistics.multimode(data)\n",
        "print('Using statistics library(for one value): ',mode_by_statistics)\n",
        "print('Using statistics library(for all value): ',all_mode_by_statistics)\n",
        "\n",
        "#Using scipy.stats.mode() (SciPy Library)\n",
        "from scipy.stats import mode\n",
        "mode_value, count = mode(data, keepdims=True)  # keepdims=True for compatibility\n",
        "print('Using SciPy library: ', mode_value[0])\n",
        "\n",
        "# using numpy\n",
        "import numpy as np\n",
        "data_np = np.array([1,2,3,6,4,5,6,3])\n",
        "mode_np = np.bincount(data).argmax()\n",
        "print('Using numpy library: ', mode_np)\n",
        "\n",
        "#using pandas\n",
        "import pandas as pd\n",
        "data_pd = pd.Series([1,2,3,6,4,5,6,3])\n",
        "mode_pd = data_pd.mode()\n",
        "print('Using pandas library: ', mode_pd.tolist())"
      ],
      "metadata": {
        "colab": {
          "base_uri": "https://localhost:8080/"
        },
        "id": "5frDvDFJfofG",
        "outputId": "d679fa1f-076f-4a31-b594-f1b15367d0e5"
      },
      "execution_count": null,
      "outputs": [
        {
          "output_type": "stream",
          "name": "stdout",
          "text": [
            "By scratch:  [3, 6]\n",
            "By scratch and using inbuild method:  [3, 6]\n",
            "Using statistics library(for one value):  3\n",
            "Using statistics library(for all value):  [3, 6]\n",
            "Using SciPy library:  3\n",
            "Using numpy library:  3\n",
            "Using pandas library:  [3, 6]\n"
          ]
        }
      ]
    },
    {
      "cell_type": "markdown",
      "source": [
        "> 1.2. MEASURE OF DISPERSION /MEASURE OF VARIABILITY"
      ],
      "metadata": {
        "id": "TOC8owzYnG9b"
      }
    },
    {
      "cell_type": "markdown",
      "source": [
        ">> 1.2.1 Absolute Measures\n",
        ">>> 1.2.1.1 Range"
      ],
      "metadata": {
        "id": "ZYAsivtDnXnQ"
      }
    },
    {
      "cell_type": "code",
      "execution_count": null,
      "metadata": {
        "colab": {
          "base_uri": "https://localhost:8080/"
        },
        "id": "RkPs-aYvdBxY",
        "outputId": "3d3c98d4-8507-479c-a7e5-55aa6abed5ab"
      },
      "outputs": [
        {
          "output_type": "stream",
          "name": "stdout",
          "text": [
            "Range using standard library:  5\n",
            "Using numpy:  5\n",
            "Using pandas:  5\n"
          ]
        }
      ],
      "source": [
        "#Using max() and min() (Standard Library)\n",
        "def range_scratch(ls):\n",
        "  return max(ls)-min(ls)\n",
        "result_range_scratch = range_scratch(data)\n",
        "print('Range using standard library: ', result_range_scratch)\n",
        "\n",
        "#Using NumPy (numpy.ptp()) - Does not handle NaN values well (use np.nanptp() for that).\n",
        "range_np= np.ptp(data_np)\n",
        "print('Using numpy: ',range_np)\n",
        "\n",
        "#Using Pandas (pandas.Series.max() and min())\n",
        "range_pd = data_pd.max() - data_pd.min()\n",
        "print('Using pandas: ',range_pd)"
      ]
    },
    {
      "cell_type": "markdown",
      "source": [
        ">>> 1.2.1.2. Varience"
      ],
      "metadata": {
        "id": "hzCmE6mXluQK"
      }
    },
    {
      "cell_type": "code",
      "source": [
        "#Scratch (Manual Calculation)\n",
        "def varience_scratch(ls):\n",
        "  m = sum(ls)/len(ls)\n",
        "  return sum((x - m)**2 for x in ls)/(len(ls)-1) #sample varience\n",
        "result_varience_scratch = varience_scratch(data)\n",
        "print('Using Scratch: ', result_varience_scratch)\n",
        "\n",
        "#Using statistics.variance() (Standard Library)\n",
        "variance_stats = statistics.variance(data)\n",
        "print('Using statistics library: ', variance_stats) #Uses sample variance (n-1 denominator, Bessel's correction).\n",
        "## Use statistics.pvariance() for population variance (n denominator).\n",
        "\n",
        "#Using NumPy (numpy.var())\n",
        "variance_np = np.var(data_np, ddof=1) ## ddof=1 for sample variance and ddof=0 for population variance\n",
        "print('Using numpy: ',variance_np)\n",
        "\n",
        "#using pandas\n",
        "variance_pd = data_pd.var()\n",
        "print('Using pandas: ', variance_pd)"
      ],
      "metadata": {
        "colab": {
          "base_uri": "https://localhost:8080/"
        },
        "id": "uxJ_7Mg5FAp0",
        "outputId": "3b642e9d-0167-4200-abac-9dd600c61125"
      },
      "execution_count": null,
      "outputs": [
        {
          "output_type": "stream",
          "name": "stdout",
          "text": [
            "Using Scratch:  3.357142857142857\n",
            "Using statistics library:  3.357142857142857\n",
            "Using numpy:  3.357142857142857\n",
            "Using pandas:  3.357142857142857\n"
          ]
        }
      ]
    },
    {
      "cell_type": "markdown",
      "source": [
        ">>> 1.2.1.3. Standard Deviation"
      ],
      "metadata": {
        "id": "ifpMs1sHHSdx"
      }
    },
    {
      "cell_type": "code",
      "source": [
        "#scratch\n",
        "std_scratch = (result_varience_scratch)**0.5\n",
        "print('By scratch: ',std_scratch)\n",
        "\n",
        "#using statistics library\n",
        "std_stats = statistics.stdev(data)\n",
        "print('Uisng statistics library: ',std_stats)\n",
        "\n",
        "#using numpy libarary\n",
        "std_np = np.std(data_np, ddof=1)  # ddof=1 for sample standard deviation\n",
        "print('Using numpy library: ',std_np)\n",
        "\n",
        "#using pandas\n",
        "std_pd = data_pd.std()\n",
        "print('Using panadas library: ',std_pd)"
      ],
      "metadata": {
        "colab": {
          "base_uri": "https://localhost:8080/"
        },
        "id": "3zUC3dWPlv00",
        "outputId": "25bbaae5-4b7c-4781-8f74-c2abfd9895ee"
      },
      "execution_count": null,
      "outputs": [
        {
          "output_type": "stream",
          "name": "stdout",
          "text": [
            "By scratch:  1.8322507626258087\n",
            "Uisng statistics library:  1.8322507626258087\n",
            "Using numpy library:  1.8322507626258087\n",
            "Using panadas library:  1.8322507626258087\n"
          ]
        }
      ]
    },
    {
      "cell_type": "markdown",
      "source": [
        ">>> 1.2.1.4. Mean Absolute Deviation / Mean Deviation"
      ],
      "metadata": {
        "id": "ibYB7GaxLx3_"
      }
    },
    {
      "cell_type": "code",
      "source": [
        "#scratch with build_in method\n",
        "mad_scratch = sum(abs(x - result_mean_by_scratch) for x in data)/len(data)\n",
        "print('Using scratch: ', mad_scratch)\n",
        "\n",
        "#Using NumPy (No built-in NumPy function for MAD)\n",
        "mad_np = np.mean(np.abs(data_np - np.mean(data_np)))\n",
        "print('Using numpy library: ', mad_np)\n",
        "\n",
        "#Using Pandas: pandas.Series.mad() was deprecated in Pandas 2.0 and removed in recent versions.\n",
        "\n",
        "#Using Using SciPy ( Uses the median instead of the mean)\n",
        "from scipy.stats import median_abs_deviation\n",
        "mad_scipy = median_abs_deviation(data)\n",
        "print('Using scipy libarary: ', mad_scipy)"
      ],
      "metadata": {
        "colab": {
          "base_uri": "https://localhost:8080/"
        },
        "id": "2G2P9bMCONgd",
        "outputId": "08c5418d-a91d-473f-f800-289331406e90"
      },
      "execution_count": null,
      "outputs": [
        {
          "output_type": "stream",
          "name": "stdout",
          "text": [
            "Using scratch:  1.5\n",
            "Using numpy library:  1.5\n",
            "Using scipy libarary:  1.5\n"
          ]
        }
      ]
    },
    {
      "cell_type": "markdown",
      "source": [
        ">>> 1.2.1.5. Quartile Deviation / Semi-Inter Quartile Range"
      ],
      "metadata": {
        "id": "65hv6Wj7Su1m"
      }
    },
    {
      "cell_type": "markdown",
      "source": [
        "*Before Getting into Quartile deviation, lets look how to find quartile and IQR*"
      ],
      "metadata": {
        "id": "YptlA2PAS6OM"
      }
    },
    {
      "cell_type": "code",
      "source": [
        "#Scratch\n",
        "def IQR(data):\n",
        "  q2 = median_scratch(data)\n",
        "  q1 = median_scratch(data[:int(q2)])\n",
        "  q3 = median_scratch(data[int(q2):])\n",
        "  return q3-q1\n",
        "iqr = IQR(data)\n",
        "print('Inter-quartile range: ', iqr)"
      ],
      "metadata": {
        "colab": {
          "base_uri": "https://localhost:8080/"
        },
        "id": "PbwFoq0OUgb0",
        "outputId": "8e586a32-53e7-425a-bd8f-738dfb8e62fb"
      },
      "execution_count": null,
      "outputs": [
        {
          "output_type": "stream",
          "name": "stdout",
          "text": [
            "Inter-quartile range:  3\n"
          ]
        }
      ]
    },
    {
      "cell_type": "code",
      "source": [
        "#Scratch Quartile deviation\n",
        "def Quartile_scratch(data):\n",
        "  data.sort()\n",
        "  n = len(data)\n",
        "  # Finding Q1 using proper interpolation\n",
        "  q1_index = (n - 1) * 0.25\n",
        "  lower_q1 = data[int(q1_index)]\n",
        "  upper_q1 = data[int(q1_index) + 1] if int(q1_index) + 1 < n else lower_q1\n",
        "  Q1 = lower_q1 + (upper_q1 - lower_q1) * (q1_index % 1)\n",
        "\n",
        "  # Finding Q3 using proper interpolation\n",
        "  q3_index = (n - 1) * 0.75\n",
        "  lower_q3 = data[int(q3_index)]\n",
        "  upper_q3 = data[int(q3_index) + 1] if int(q3_index) + 1 < n else lower_q3\n",
        "  Q3 = lower_q3 + (upper_q3 - lower_q3) * (q3_index % 1)\n",
        "  return (Q3 - Q1)/2\n",
        "result_quartile_scratch = Quartile_scratch(data)\n",
        "print('By scratch: ',result_quartile_scratch)\n",
        "\n",
        "#Using numpy\n",
        "Q1 = np.percentile(data_np,25)\n",
        "Q3 = np.percentile(data_np,75)\n",
        "Quartile_deviation_np = (Q3-Q1)/2\n",
        "print('Quartile deviation by numpy library: ', Quartile_deviation_np)\n",
        "\n",
        "#Using pandas\n",
        "Q1 = data_pd.quantile(0.25)\n",
        "Q3 = data_pd.quantile(0.75)\n",
        "Quartile_deviation_pd = (Q3-Q1)/2\n",
        "print('Quartile deviation by pandas library: ', Quartile_deviation_pd)\n",
        "\n",
        "#Using scipy\n",
        "from scipy.stats import iqr\n",
        "iqr_scipy = iqr(data)\n",
        "quartile_scipy = iqr_scipy/2\n",
        "print('Quartile deviation by scipy library: ',quartile_scipy)"
      ],
      "metadata": {
        "colab": {
          "base_uri": "https://localhost:8080/"
        },
        "id": "9612qYWB0fof",
        "outputId": "9bbf55b2-e416-43aa-c82d-1ed22a164f8d"
      },
      "execution_count": null,
      "outputs": [
        {
          "output_type": "stream",
          "name": "stdout",
          "text": [
            "By scratch:  1.25\n",
            "Quartile deviation by numpy library:  1.25\n",
            "Quartile deviation by pandas library:  1.25\n",
            "Quartile deviation by scipy library:  1.25\n"
          ]
        }
      ]
    },
    {
      "cell_type": "markdown",
      "source": [
        ">> 1.2.2. Relative Measure of Dispersion"
      ],
      "metadata": {
        "id": "JkFTcyA5nbXk"
      }
    },
    {
      "cell_type": "markdown",
      "source": [
        ">>> 1.2.2.1. Coefficient of Range"
      ],
      "metadata": {
        "id": "Ouw6MtI3c1qp"
      }
    },
    {
      "cell_type": "code",
      "source": [
        "# Scratch Implementation\n",
        "def coefficient_of_range_scratch(ls):\n",
        "    max_val = max(ls)\n",
        "    min_val = min(ls)\n",
        "    return (max_val - min_val) / (max_val + min_val)\n",
        "\n",
        "result_scratch_cof = coefficient_of_range_scratch(data)\n",
        "print(\"Coefficient of Range (Scratch):\", result_scratch_cof)\n",
        "\n",
        "# Using NumPy\n",
        "max_np = np.max(data)\n",
        "min_np = np.min(data)\n",
        "coefficient_range_np = (max_np - min_np) / (max_np + min_np)\n",
        "print(\"Coefficient of Range (NumPy):\", coefficient_range_np)\n",
        "\n",
        "# Using Pandas\n",
        "data_pd = pd.Series(data)\n",
        "max_pd = data_pd.max()\n",
        "min_pd = data_pd.min()\n",
        "coefficient_range_pd = (max_pd - min_pd) / (max_pd + min_pd)\n",
        "print(\"Coefficient of Range (Pandas):\", coefficient_range_pd)"
      ],
      "metadata": {
        "colab": {
          "base_uri": "https://localhost:8080/"
        },
        "id": "iRIo-IZUndP2",
        "outputId": "aa322896-c53b-4f96-90d3-0e2267f5ac30"
      },
      "execution_count": null,
      "outputs": [
        {
          "output_type": "stream",
          "name": "stdout",
          "text": [
            "Coefficient of Range (Scratch): 0.7142857142857143\n",
            "Coefficient of Range (NumPy): 0.7142857142857143\n",
            "Coefficient of Range (Pandas): 0.7142857142857143\n"
          ]
        }
      ]
    },
    {
      "cell_type": "markdown",
      "source": [
        ">>> 1.2.2.2. Coefficient of Variation"
      ],
      "metadata": {
        "id": "BYnxGfJidJDn"
      }
    },
    {
      "cell_type": "code",
      "source": [
        "# Scratch Implementation\n",
        "def coefficient_of_variation_scratch(ls):\n",
        "    mean_val = sum(ls) / len(ls)\n",
        "    variance = sum((x - mean_val) ** 2 for x in ls) / (len(ls) - 1)  # Sample variance (n-1)\n",
        "    std_dev = variance ** 0.5  # Standard deviation\n",
        "    return (std_dev / mean_val) * 100 if mean_val != 0 else 0  # Avoid division by zero\n",
        "\n",
        "result_scratch = coefficient_of_variation_scratch(data)\n",
        "print(\"Coefficient of Variation (Scratch):\", result_scratch)\n",
        "\n",
        "# Using NumPy\n",
        "mean_np = np.mean(data)\n",
        "std_np = np.std(data, ddof=1)  # Sample standard deviation (ddof=1)\n",
        "coefficient_variation_np = (std_np / mean_np) * 100\n",
        "print(\"Coefficient of Variation (NumPy):\", coefficient_variation_np)\n",
        "\n",
        "# Using Pandas\n",
        "data_pd = pd.Series(data)\n",
        "mean_pd = data_pd.mean()\n",
        "std_pd = data_pd.std()\n",
        "coefficient_variation_pd = (std_pd / mean_pd) * 100\n",
        "print(\"Coefficient of Variation (Pandas):\", coefficient_variation_pd)\n",
        "\n",
        "# Using Statistics Module\n",
        "mean_stats = statistics.mean(data)\n",
        "std_stats = statistics.stdev(data)  # Sample standard deviation\n",
        "coefficient_variation_stats = (std_stats / mean_stats) * 100\n",
        "print(\"Coefficient of Variation (Statistics Module):\", coefficient_variation_stats)"
      ],
      "metadata": {
        "colab": {
          "base_uri": "https://localhost:8080/"
        },
        "id": "uw7rwBGToGdA",
        "outputId": "95e0affe-5fa3-4e84-dd2c-8c68256a87c6"
      },
      "execution_count": null,
      "outputs": [
        {
          "output_type": "stream",
          "name": "stdout",
          "text": [
            "Coefficient of Variation (Scratch): 48.86002033668823\n",
            "Coefficient of Variation (NumPy): 48.86002033668823\n",
            "Coefficient of Variation (Pandas): 48.86002033668823\n",
            "Coefficient of Variation (Statistics Module): 48.86002033668823\n"
          ]
        }
      ]
    },
    {
      "cell_type": "markdown",
      "source": [
        ">>> 1.2.2.3. Coefficient of mean deviation. (The central value can be the Mean, Median, or Mode)"
      ],
      "metadata": {
        "id": "XcVa87Nd5mKO"
      }
    },
    {
      "cell_type": "code",
      "source": [
        "# Scratch Implementation of Mean Deviation\n",
        "def mean_deviation_scratch(ls, central_value):\n",
        "    n = len(ls)\n",
        "    mean_dev = sum(abs(x - central_value) for x in ls) / n\n",
        "    return mean_dev\n",
        "\n",
        "# Scratch Implementation of Coefficient of Mean Deviation\n",
        "def coefficient_of_mean_deviation(ls, central_value):\n",
        "    mean_dev = mean_deviation_scratch(ls, central_value)\n",
        "    return (mean_dev / central_value) * 100 if central_value != 0 else 0  # Avoid division by zero\n",
        "\n",
        "# Mean, Median, Mode calculations\n",
        "mean_value = statistics.mean(data)\n",
        "median_value = statistics.median(data)\n",
        "\n",
        "# Get the first mode if multiple modes exist\n",
        "mode_list = statistics.multimode(data)\n",
        "mode_value = mode_list[0] if mode_list else None  # Take the first mode if available\n",
        "\n",
        "# Compute Coefficient of Mean Deviation\n",
        "cm_mean = coefficient_of_mean_deviation(data, mean_value)\n",
        "cm_median = coefficient_of_mean_deviation(data, median_value)\n",
        "cm_mode = coefficient_of_mean_deviation(data, mode_value) if mode_value is not None else \"Mode not defined\"\n",
        "\n",
        "print(\"Coefficient of Mean Deviation about Mean (Scratch):\", cm_mean)\n",
        "print(\"Coefficient of Mean Deviation about Median (Scratch):\", cm_median)\n",
        "print(\"Coefficient of Mean Deviation about Mode (Scratch):\", cm_mode)\n",
        "\n",
        "# Using NumPy\n",
        "mean_np = np.mean(data)\n",
        "median_np = np.median(data)\n",
        "mean_dev_np = np.mean(np.abs(data - mean_np))\n",
        "coefficient_md_np = (mean_dev_np / mean_np) * 100\n",
        "print(\"Coefficient of Mean Deviation about Mean (NumPy):\", coefficient_md_np)\n"
      ],
      "metadata": {
        "colab": {
          "base_uri": "https://localhost:8080/"
        },
        "id": "E5uZa5JC5IkW",
        "outputId": "4eca6378-2f78-4036-9acb-28b7c39d5356"
      },
      "execution_count": null,
      "outputs": [
        {
          "output_type": "stream",
          "name": "stdout",
          "text": [
            "Coefficient of Mean Deviation about Mean (Scratch): 40.0\n",
            "Coefficient of Mean Deviation about Median (Scratch): 42.857142857142854\n",
            "Coefficient of Mean Deviation about Mode (Scratch): 50.0\n",
            "Coefficient of Mean Deviation about Mean (NumPy): 40.0\n"
          ]
        }
      ]
    },
    {
      "cell_type": "markdown",
      "source": [
        ">>> 1.2.2.4. Coefficient of Quartile Deviation"
      ],
      "metadata": {
        "id": "HKnaFB_GbOIs"
      }
    },
    {
      "cell_type": "code",
      "source": [
        "def quartiles_scratch(data):\n",
        "    data.sort()\n",
        "    n = len(data)\n",
        "\n",
        "   # Finding Q1 using proper interpolation\n",
        "    q1_index = (n - 1) * 0.25\n",
        "    lower_q1 = data[int(q1_index)]\n",
        "    upper_q1 = data[int(q1_index) + 1] if int(q1_index) + 1 < n else lower_q1\n",
        "    Q1 = lower_q1 + (upper_q1 - lower_q1) * (q1_index % 1)\n",
        "\n",
        "    # Finding Q3 using proper interpolation\n",
        "    q3_index = (n - 1) * 0.75\n",
        "    lower_q3 = data[int(q3_index)]\n",
        "    upper_q3 = data[int(q3_index) + 1] if int(q3_index) + 1 < n else lower_q3\n",
        "    Q3 = lower_q3 + (upper_q3 - lower_q3) * (q3_index % 1)\n",
        "\n",
        "    return Q1, Q3\n",
        "\n",
        "def coefficient_of_quartile_deviation_scratch(data):\n",
        "    Q1, Q3 = quartiles_scratch(data)\n",
        "    return (Q3 - Q1) / (Q3 + Q1) if (Q3 + Q1) != 0 else 0  # Avoid division by zero\n",
        "\n",
        "# Compute CQD using Scratch\n",
        "CQD_scratch = coefficient_of_quartile_deviation_scratch(data)\n",
        "print(\"Coefficient of Quartile Deviation (Scratch):\", CQD_scratch)\n",
        "\n",
        "#Using Numpy\n",
        "Q1_np = np.percentile(data_np, 25)\n",
        "Q3_np = np.percentile(data_np, 75)\n",
        "CQD_numpy = (Q3_np - Q1_np) / (Q3_np + Q1_np)\n",
        "\n",
        "print(\"Coefficient of Quartile Deviation (NumPy):\", CQD_numpy)\n",
        "\n",
        "#Using Pandas\n",
        "data_pd = pd.Series(data)\n",
        "Q1_pd = data_pd.quantile(0.25)\n",
        "Q3_pd = data_pd.quantile(0.75)\n",
        "CQD_pandas = (Q3_pd - Q1_pd) / (Q3_pd + Q1_pd)\n",
        "\n",
        "print(\"Coefficient of Quartile Deviation (Pandas):\", CQD_pandas)\n",
        "\n",
        "#Using scipy\n",
        "Q1_scipy = np.percentile(data, 25)\n",
        "Q3_scipy = np.percentile(data, 75)\n",
        "CQD_scipy = (Q3_scipy - Q1_scipy) / (Q3_scipy + Q1_scipy)\n",
        "\n",
        "print(\"Coefficient of Quartile Deviation (SciPy):\", CQD_scipy)"
      ],
      "metadata": {
        "colab": {
          "base_uri": "https://localhost:8080/"
        },
        "id": "J_-fV1GaMqle",
        "outputId": "08121414-22a5-43a2-e718-324a5afa90b6"
      },
      "execution_count": null,
      "outputs": [
        {
          "output_type": "stream",
          "name": "stdout",
          "text": [
            "Coefficient of Quartile Deviation (Scratch): 0.3125\n",
            "Coefficient of Quartile Deviation (NumPy): 0.3125\n",
            "Coefficient of Quartile Deviation (Pandas): 0.3125\n",
            "Coefficient of Quartile Deviation (SciPy): 0.3125\n"
          ]
        }
      ]
    },
    {
      "cell_type": "markdown",
      "source": [
        ">1.3. MEASURE OF SHAPE"
      ],
      "metadata": {
        "id": "M31stxpQbZTe"
      }
    },
    {
      "cell_type": "markdown",
      "source": [
        ">> 1.3.1. Skewness"
      ],
      "metadata": {
        "id": "sQ_gz_j1tZpM"
      }
    },
    {
      "cell_type": "markdown",
      "source": [
        ">>>1.3.1.1 Tests of Skewness:  Visual Inspection:"
      ],
      "metadata": {
        "id": "Ri6et9odw6wo"
      }
    },
    {
      "cell_type": "code",
      "source": [
        "import matplotlib.pyplot as plt\n",
        "import seaborn as sns\n",
        "\n",
        "# Sample data\n",
        "data_skew_test = [10, 12, 13, 15, 15, 16, 17, 18, 40, 50]\n",
        "# Plotting Histogram\n",
        "plt.figure(figsize=(10, 5))\n",
        "\n",
        "# Histogram for skewness visualization\n",
        "plt.subplot(1, 2, 1)\n",
        "plt.hist(data_skew_test, bins=10, color='skyblue', edgecolor='black')\n",
        "plt.title('Histogram')\n",
        "plt.xlabel('Value')\n",
        "plt.ylabel('Frequency')\n",
        "\n",
        "# Boxplot for skewness visualization\n",
        "plt.subplot(1, 2, 2)\n",
        "sns.boxplot(data =data_skew_test, color='lightgreen')\n",
        "plt.title('Boxplot')\n",
        "plt.xlabel('Data')\n",
        "\n",
        "plt.tight_layout()\n",
        "plt.show()\n"
      ],
      "metadata": {
        "colab": {
          "base_uri": "https://localhost:8080/",
          "height": 507
        },
        "id": "V2_bScK0_v0a",
        "outputId": "c5741750-2ed7-42d8-e914-a5dd45694faa"
      },
      "execution_count": null,
      "outputs": [
        {
          "output_type": "display_data",
          "data": {
            "text/plain": [
              "<Figure size 1000x500 with 2 Axes>"
            ],
            "image/png": "[encoded data removed]"
          },
          "metadata": {}
        }
      ]
    },
    {
      "cell_type": "markdown",
      "source": [
        "**Histogram:** This shows the frequency distribution of the data. Since the histogram will have a long right tail, the data is positively skewed.\n",
        "**Box Plot:** The box plot provides a visual summary of the data’s distribution. Since the median line is closer to the top of the box,and there are outliers (dots far away from the box), it suggests positive skewness."
      ],
      "metadata": {
        "id": "8uNxgnq-yKsI"
      }
    },
    {
      "cell_type": "markdown",
      "source": [
        "✅ Skewness measures asymmetry of data distribution. Pearson’s method (mean-median) is simple, but SciPy uses Fisher-Pearson for better accuracy."
      ],
      "metadata": {
        "id": "dIO6CxAhaxvZ"
      }
    },
    {
      "cell_type": "code",
      "source": [
        "import numpy as np\n",
        "\n",
        "skew_numpy = ((len(data_skew_test) / ((len(data_skew_test) - 1) * (len(data_skew_test) - 2))) *\n",
        "              sum(((x - np.mean(data_skew_test)) / np.std(data_skew_test, ddof=0))**3 for x in data_skew_test))\n",
        "\n",
        "print(\"Skewness (NumPy):\", skew_numpy)\n"
      ],
      "metadata": {
        "colab": {
          "base_uri": "https://localhost:8080/"
        },
        "id": "TWpOgsAkyNiY",
        "outputId": "2e43b902-46c3-4adf-fc45-12cb50436cdb"
      },
      "execution_count": null,
      "outputs": [
        {
          "output_type": "stream",
          "name": "stdout",
          "text": [
            "Skewness (NumPy): 2.0768392659553303\n"
          ]
        }
      ]
    },
    {
      "cell_type": "markdown",
      "source": [
        " Bowley’s Measure of Skewness (Based on Quartiles)\n",
        "\n",
        "\n",
        "> Resistant to extreme values (outliers) because it uses quartiles. Good for ordinal data where mean and standard deviation are not meaningful. Best for asymmetrical distributions in small datasets.\n"
      ],
      "metadata": {
        "id": "y7vmlZS1dz_R"
      }
    },
    {
      "cell_type": "code",
      "source": [
        "def bowley_skewness(data):\n",
        "    Q1 = np.percentile(data, 25)\n",
        "    Q2 = np.percentile(data, 50)  # Median\n",
        "    Q3 = np.percentile(data, 75)\n",
        "\n",
        "    return (Q3 + Q1 - 2 * Q2) / (Q3 - Q1)\n",
        "\n",
        "\n",
        "bowley_result = bowley_skewness(data_skew_test)\n",
        "print(\"Bowley's Skewness:\", bowley_result)\n",
        "\n"
      ],
      "metadata": {
        "colab": {
          "base_uri": "https://localhost:8080/"
        },
        "id": "N3UeLzDbzlao",
        "outputId": "2dc31507-8787-4cc2-8b89-0804b62736ed"
      },
      "execution_count": null,
      "outputs": [
        {
          "output_type": "stream",
          "name": "stdout",
          "text": [
            "Bowley's Skewness: 0.058823529411764705\n"
          ]
        }
      ]
    },
    {
      "cell_type": "markdown",
      "source": [
        "Kelly’s Measure of Skewness (Based on Percentiles).\n",
        "\n",
        "> Works better for highly skewed distributions because it includes the tails. More precise than Bowley’s for large datasets."
      ],
      "metadata": {
        "id": "1kXTD7Xbd_2v"
      }
    },
    {
      "cell_type": "code",
      "source": [
        "def kelly_skewness(data):\n",
        "    P10 = np.percentile(data, 10)\n",
        "    P50 = np.percentile(data, 50)  # Median\n",
        "    P90 = np.percentile(data, 90)\n",
        "\n",
        "    return (P90 + P10 - 2 * P50) / (P90 - P10)\n",
        "\n",
        "kelly_result = kelly_skewness(data_skew_test)\n",
        "print(\"Kelly's Skewness:\", kelly_result)\n"
      ],
      "metadata": {
        "colab": {
          "base_uri": "https://localhost:8080/"
        },
        "id": "M8AGcs2RfsLe",
        "outputId": "c29c4f00-769d-4c4f-d91b-e58e805027ac"
      },
      "execution_count": null,
      "outputs": [
        {
          "output_type": "stream",
          "name": "stdout",
          "text": [
            "Kelly's Skewness: 0.7465753424657533\n"
          ]
        }
      ]
    },
    {
      "cell_type": "markdown",
      "source": [
        ">> 1.3.1. Kurtosis"
      ],
      "metadata": {
        "id": "Lo4qkXVHkH1c"
      }
    },
    {
      "cell_type": "code",
      "source": [
        "from scipy.stats import kurtosis\n",
        "\n",
        "kurt_scipy = kurtosis(data_skew_test, fisher=True)  # fisher=True for excess kurtosis\n",
        "print(\"Kurtosis (SciPy):\", kurt_scipy)\n"
      ],
      "metadata": {
        "colab": {
          "base_uri": "https://localhost:8080/"
        },
        "id": "rKecPmpEk4Y2",
        "outputId": "5b4377de-1486-4e1b-9a71-6132f2bec71b"
      },
      "execution_count": null,
      "outputs": [
        {
          "output_type": "stream",
          "name": "stdout",
          "text": [
            "Kurtosis (SciPy): 0.6179911383468188\n"
          ]
        }
      ]
    },
    {
      "cell_type": "markdown",
      "source": [
        "'> 0' (Positive Kurtosis) -\tLeptokurtic -\tHeavy tails (outliers present)"
      ],
      "metadata": {
        "id": "tR-YNQrylMTZ"
      }
    },
    {
      "cell_type": "markdown",
      "source": [
        "> 1.4.  Measures of Relationship"
      ],
      "metadata": {
        "id": "Eqawf6qel7zz"
      }
    },
    {
      "cell_type": "markdown",
      "source": [
        ">> 1.4.1. Covariance"
      ],
      "metadata": {
        "id": "b-QnEGkemLOd"
      }
    },
    {
      "cell_type": "code",
      "source": [
        "import numpy as np\n",
        "\n",
        "def mean_scratch(data):\n",
        "    return sum(data) / len(data)\n",
        "\n",
        "def covariance_scratch(x, y):\n",
        "    if len(x) != len(y):\n",
        "        raise ValueError(\"Datasets must have the same length\")\n",
        "\n",
        "    n = len(x)\n",
        "    mean_x = mean_scratch(x)\n",
        "    mean_y = mean_scratch(y)\n",
        "\n",
        "    CV = sum((x[i] - mean_x) * (y[i] - mean_y) for i in range(n)) / n\n",
        "    return CV\n",
        "\n",
        "# Example Data\n",
        "x = [2, 4, 6, 8, 10]\n",
        "y = [1, 3, 5, 7, 9]\n",
        "\n",
        "cov_scratch = covariance_scratch(x, y)\n",
        "print(\"Covariance (Scratch Method):\", cov_scratch)\n"
      ],
      "metadata": {
        "colab": {
          "base_uri": "https://localhost:8080/"
        },
        "id": "-sokWpzrlzJk",
        "outputId": "398588a8-a445-46c7-f85c-509d0df73655"
      },
      "execution_count": null,
      "outputs": [
        {
          "output_type": "stream",
          "name": "stdout",
          "text": [
            "Covariance (Scratch Method): 8.0\n"
          ]
        }
      ]
    },
    {
      "cell_type": "code",
      "source": [
        "#NUMPY\n",
        "cov_matrix = np.cov(x, y, bias=False)  # bias=True for population covariance\n",
        "cov_numpy = cov_matrix[0, 1]  # Extract covariance value\n",
        "\n",
        "print(\"Covariance (NumPy):\", cov_numpy)\n",
        "\n",
        "#PANDAS\n",
        "import pandas as pd\n",
        "\n",
        "df = pd.DataFrame({'X': x, 'Y': y})\n",
        "cov_pandas = df.cov().iloc[0, 1]  # Extract covariance value\n",
        "\n",
        "print(\"Covariance (Pandas):\", cov_pandas)\n"
      ],
      "metadata": {
        "colab": {
          "base_uri": "https://localhost:8080/"
        },
        "id": "UQecKdAey8M0",
        "outputId": "0a4ece5b-b3b6-447e-e967-ff89e5b51e2c"
      },
      "execution_count": null,
      "outputs": [
        {
          "output_type": "stream",
          "name": "stdout",
          "text": [
            "Covariance (NumPy): 10.0\n",
            "Covariance (Pandas): 10.0\n"
          ]
        }
      ]
    },
    {
      "cell_type": "markdown",
      "source": [
        ">> 1.4.2. Correlation"
      ],
      "metadata": {
        "id": "pTEFfnal74tZ"
      }
    },
    {
      "cell_type": "code",
      "source": [
        "#Scratch\n",
        "def mean(ls):\n",
        "    return sum(ls) / len(ls)\n",
        "\n",
        "def standard_deviation(ls):\n",
        "    mu = mean(ls)\n",
        "    return (sum((x - mu) ** 2 for x in ls) / len(ls)) ** 0.5  # Population std dev\n",
        "\n",
        "def covariance(x, y):\n",
        "    mu_x = mean(x)\n",
        "    mu_y = mean(y)\n",
        "    return sum((x[i] - mu_x) * (y[i] - mu_y) for i in range(len(x))) / len(x)  # Population covariance\n",
        "\n",
        "def pearson_correlation(x, y):\n",
        "    return covariance(x, y) / (standard_deviation(x) * standard_deviation(y))\n",
        "\n",
        "\n",
        "corr_scratch = pearson_correlation(x, y)\n",
        "print(\"Correlation (Scratch Method):\", corr_scratch)\n"
      ],
      "metadata": {
        "colab": {
          "base_uri": "https://localhost:8080/"
        },
        "id": "-7z0J-Vx73ut",
        "outputId": "5709d89a-b324-48a6-cdfc-f6a6593717a3"
      },
      "execution_count": null,
      "outputs": [
        {
          "output_type": "stream",
          "name": "stdout",
          "text": [
            "Correlation (Scratch Method): 0.9999999999999998\n"
          ]
        }
      ]
    },
    {
      "cell_type": "code",
      "source": [
        "#numpy\n",
        "corr_numpy = np.corrcoef(x, y)[0, 1]  # Extract correlation value\n",
        "print(\"Correlation (NumPy):\", corr_numpy)\n",
        "\n",
        "#pandas\n",
        "df = pd.DataFrame({'X': x, 'Y': y})\n",
        "corr_pandas = df.corr().iloc[0, 1]\n",
        "print(\"Correlation (Pandas):\", corr_pandas)\n",
        "\n",
        "#scipy\n",
        "from scipy.stats import pearsonr\n",
        "\n",
        "corr_scipy, _ = pearsonr(x, y)\n",
        "print(\"Correlation (SciPy - Pearson):\", corr_scipy)\n"
      ],
      "metadata": {
        "colab": {
          "base_uri": "https://localhost:8080/"
        },
        "id": "NqVo8hMn9qoh",
        "outputId": "d31d4e43-f68c-4322-9581-95d73ce6bdb0"
      },
      "execution_count": null,
      "outputs": [
        {
          "output_type": "stream",
          "name": "stdout",
          "text": [
            "Correlation (NumPy): 0.9999999999999999\n",
            "Correlation (Pandas): 1.0\n",
            "Correlation (SciPy - Pearson): 1.0\n"
          ]
        }
      ]
    },
    {
      "cell_type": "markdown",
      "source": [
        "Spearman’s Rank Correlation (used for non-linear relationships, ranks instead of actual values):"
      ],
      "metadata": {
        "id": "5rbJE0PJ-KOH"
      }
    },
    {
      "cell_type": "code",
      "source": [
        "from scipy.stats import spearmanr\n",
        "corr_spearman, _ = spearmanr(x, y)\n",
        "print(\"Spearman Correlation:\", corr_spearman)\n"
      ],
      "metadata": {
        "colab": {
          "base_uri": "https://localhost:8080/"
        },
        "id": "G95ixrr0-MMv",
        "outputId": "9155a84e-4939-4f81-ad2c-4d57e418aabf"
      },
      "execution_count": null,
      "outputs": [
        {
          "output_type": "stream",
          "name": "stdout",
          "text": [
            "Spearman Correlation: 0.9999999999999999\n"
          ]
        }
      ]
    },
    {
      "cell_type": "markdown",
      "source": [
        "Kendall’s Tau (for small datasets & ordinal data):"
      ],
      "metadata": {
        "id": "twZWLnPC-Q4Y"
      }
    },
    {
      "cell_type": "code",
      "source": [
        "from scipy.stats import kendalltau\n",
        "corr_kendall, _ = kendalltau(x, y)\n",
        "print(\"Kendall Correlation:\", corr_kendall)"
      ],
      "metadata": {
        "id": "xzN4q4AH-apk",
        "outputId": "d4a5617b-65b6-42d2-a4c9-b4c56bc16f15",
        "colab": {
          "base_uri": "https://localhost:8080/"
        }
      },
      "execution_count": null,
      "outputs": [
        {
          "output_type": "stream",
          "name": "stdout",
          "text": [
            "Kendall Correlation: 0.9999999999999999\n"
          ]
        }
      ]
    },
    {
      "cell_type": "markdown",
      "source": [
        "Parameter Estimation (Point Estimator): Maximum Likelihood Estimation (MLE)"
      ],
      "metadata": {
        "id": "WoBB1UTq4f0R"
      }
    },
    {
      "cell_type": "code",
      "source": [
        "from scipy.stats import norm\n",
        "\n",
        "# Fit data to normal distribution\n",
        "mu_mle, sigma_mle = norm.fit(data)\n",
        "\n",
        "print(f\"MLE Estimated Mean (μ): {mu_mle}\")\n",
        "print(f\"MLE Estimated Standard Deviation (σ): {sigma_mle}\")\n"
      ],
      "metadata": {
        "colab": {
          "base_uri": "https://localhost:8080/"
        },
        "id": "iya9oVvF4tzo",
        "outputId": "e5169553-dacc-4b19-dd54-e4ce4f5df65f"
      },
      "execution_count": null,
      "outputs": [
        {
          "output_type": "stream",
          "name": "stdout",
          "text": [
            "MLE Estimated Mean (μ): 3.75\n",
            "MLE Estimated Standard Deviation (σ): 1.713913650100261\n"
          ]
        }
      ]
    },
    {
      "cell_type": "markdown",
      "source": [
        "Parameter Estimation in Linear Regression:\n",
        "In regression, we estimate coefficients (β₀, β₁, …) using Ordinary Least Squares (OLS)."
      ],
      "metadata": {
        "id": "K9rMFgDd7fMU"
      }
    },
    {
      "cell_type": "code",
      "source": [
        "import numpy as np\n",
        "import statsmodels.api as sm\n",
        "\n",
        "# Sample Data\n",
        "X = np.array([1, 2, 3, 4, 5])\n",
        "y = np.array([2, 3, 5, 6, 8])\n",
        "\n",
        "# Add intercept term for β₀\n",
        "X = sm.add_constant(X)\n",
        "\n",
        "# Fit OLS Regression\n",
        "model = sm.OLS(y, X).fit()\n",
        "\n",
        "print(\"Estimated Parameters (Intercept & Slope):\", model.params)\n",
        "print(\"Confidence Intervals:\\n\", model.conf_int())\n"
      ],
      "metadata": {
        "colab": {
          "base_uri": "https://localhost:8080/"
        },
        "id": "qS21bUiU7ivY",
        "outputId": "88f210bd-7d5f-4bcd-bb0c-5a8b2022c741"
      },
      "execution_count": null,
      "outputs": [
        {
          "output_type": "stream",
          "name": "stdout",
          "text": [
            "Estimated Parameters (Intercept & Slope): [0.3 1.5]\n",
            "Confidence Intervals:\n",
            " [[-0.75549803  1.35549803]\n",
            " [ 1.18175537  1.81824463]]\n"
          ]
        }
      ]
    },
    {
      "cell_type": "markdown",
      "source": [
        "Interval Estimation: Confidence Interval (CI)"
      ],
      "metadata": {
        "id": "iecptrit8xIN"
      }
    },
    {
      "cell_type": "code",
      "source": [
        "import math\n",
        "#sratch\n",
        "def confidence_interval(sample, confidence=0.95):\n",
        "    # Step 1: Compute Sample Statistics\n",
        "    n = len(sample)  # Sample size\n",
        "    mean = sum(sample) / n  # Sample mean\n",
        "    std_dev = math.sqrt(sum((x - mean) ** 2 for x in sample) / (n - 1))  # Sample standard deviation\n",
        "\n",
        "    # Step 2: Compute Standard Error\n",
        "    std_error = std_dev / math.sqrt(n)\n",
        "\n",
        "    # Step 3: Find Z-Score for Given Confidence Level\n",
        "    z_values = {0.90: 1.645, 0.95: 1.96, 0.99: 2.576}\n",
        "    z = z_values.get(confidence, 1.96)  # Default is 95% CI\n",
        "\n",
        "    # Step 4: Compute Confidence Interval\n",
        "    margin_of_error = z * std_error\n",
        "    lower_bound = mean - margin_of_error\n",
        "    upper_bound = mean + margin_of_error\n",
        "\n",
        "    return (lower_bound, upper_bound)\n",
        "\n",
        "# Example usage\n",
        "sample_data = [23, 21, 25, 22, 20, 19, 24, 23, 26, 22]\n",
        "ci = confidence_interval(sample_data, confidence=0.95)\n",
        "print(f\"95% Confidence Interval: {ci}\")\n",
        "\n",
        "#SciPy\n",
        "import scipy.stats as stats\n",
        "\n",
        "mean = np.mean(sample_data)\n",
        "std_error = stats.sem(sample_data)  # Standard Error of Mean (SEM)\n",
        "\n",
        "# Compute Confidence Interval (95% CI)\n",
        "confidence = 0.95\n",
        "ci = stats.t.interval(confidence, len(sample_data)-1, loc=mean, scale=std_error)\n",
        "\n",
        "print(f\"95% Confidence Interval: {ci}\")\n"
      ],
      "metadata": {
        "colab": {
          "base_uri": "https://localhost:8080/"
        },
        "id": "DmBmVwh18z2D",
        "outputId": "878fafe7-88b7-4e94-dbc0-70a228820ef3"
      },
      "execution_count": null,
      "outputs": [
        {
          "output_type": "stream",
          "name": "stdout",
          "text": [
            "95% Confidence Interval: (21.153118828964896, 23.846881171035104)\n",
            "95% Confidence Interval: (20.94548117930083, 24.05451882069917)\n"
          ]
        }
      ]
    },
    {
      "cell_type": "markdown",
      "source": [
        "Hypothisis Testing"
      ],
      "metadata": {
        "id": "kPHuEF3uNQOh"
      }
    },
    {
      "cell_type": "markdown",
      "source": [
        "Z-TEST\\\n",
        "📍 Example 1: One-Sample Z-Test\\\n",
        "Problem:\\\n",
        "A factory claims that the average weight of a product is 500 grams. A sample of 40 products is taken, and their average weight is 495 grams with a known population standard deviation of 12 grams. Test whether the factory’s claim is true at a 5% significance level.\n",
        "\n",
        "Step 1: Define Hypotheses\\\n",
        "H₀ (Null Hypothesis): The mean weight = 500g (Factory claim is true)\\\n",
        "H₁ (Alternative Hypothesis): The mean weight ≠ 500g (Factory claim is false)"
      ],
      "metadata": {
        "id": "z3UytFVbQVvA"
      }
    },
    {
      "cell_type": "code",
      "source": [
        "import math\n",
        "\n",
        "# Given data\n",
        "p_m = 500  # Population mean\n",
        "n = 40  # Sample size\n",
        "s_m = 495  # Sample mean\n",
        "sd = 12  # Population standard deviation\n",
        "\n",
        "# Step 1: Compute the Z-score\n",
        "ztest = (s_m - p_m) / (sd / math.sqrt(n))\n",
        "print(f\"Z-Test Statistic: {ztest:.4f}\")\n",
        "\n",
        "# Step 2: Compute p-value using normal approximation\n",
        "# Standard normal CDF approximation (without scipy)\n",
        "def normal_cdf(x):\n",
        "    return (1.0 + math.erf(x / math.sqrt(2.0))) / 2.0\n",
        "\n",
        "# Compute p-value for two-tailed test\n",
        "p_value = 2 * (1 - normal_cdf(abs(ztest)))\n",
        "\n",
        "print(f\"P-Value: {p_value:.4f}\")\n",
        "\n",
        "# Step 3: Decision Making\n",
        "alpha = 0.05  # Significance level\n",
        "if p_value < alpha:\n",
        "    print(\"Reject H₀: The factory's claim is likely false.\")\n",
        "else:\n",
        "    print(\"Fail to Reject H₀: No significant evidence against the factory's claim.\")\n"
      ],
      "metadata": {
        "colab": {
          "base_uri": "https://localhost:8080/"
        },
        "id": "wZHMpWC6QgUI",
        "outputId": "f99270d2-d2ea-49d3-a637-8e61fae6955b"
      },
      "execution_count": null,
      "outputs": [
        {
          "output_type": "stream",
          "name": "stdout",
          "text": [
            "Z-Test Statistic: -2.6352\n",
            "P-Value: 0.0084\n",
            "Reject H₀: The factory's claim is likely false.\n"
          ]
        }
      ]
    },
    {
      "cell_type": "markdown",
      "source": [
        "If Test Statistic≤Critical Value (0.05) then we fail to reject the null hypothesis."
      ],
      "metadata": {
        "id": "Ujo8iu1zSEKt"
      }
    },
    {
      "cell_type": "markdown",
      "source": [
        "📍 Example 2: Two-Sample Z-Test\\\n",
        "Problem:\\\n",
        "Two hospitals claim that their average surgery times are the same. We collect a sample of 50 surgeries from Hospital A (mean = 80 minutes, std = 10) and sample of 60 surgeries from Hospital B (mean = 85 minutes, std = 12). Test whether the hospitals have the same average surgery time.\n",
        "\n",
        "Step 1: Define Hypotheses\\\n",
        "H₀: μ₁ = μ₂ (No difference in average surgery time)\\\n",
        "H₁: μ₁ ≠ μ₂ (Significant difference in surgery times)"
      ],
      "metadata": {
        "id": "1ILzmPr3Xb58"
      }
    },
    {
      "cell_type": "code",
      "source": [
        "# Given data\n",
        "mean_A, std_A, n_A = 80, 10, 50  # Hospital A\n",
        "mean_B, std_B, n_B = 85, 12, 60  # Hospital B\n",
        "\n",
        "# Compute Z-score\n",
        "z_score = (mean_A - mean_B) / np.sqrt((std_A**2 / n_A) + (std_B**2 / n_B))\n",
        "\n",
        "# Compute p-value\n",
        "p_value = 2 * (1 - stats.norm.cdf(abs(z_score)))  # Two-tailed test\n",
        "\n",
        "# Print results\n",
        "print(f\"Z-Score: {z_score:.4f}\")\n",
        "print(f\"P-Value: {p_value:.4f}\")\n",
        "\n",
        "# Decision\n",
        "if p_value < alpha:\n",
        "    print(\"Reject H₀: The hospitals have significantly different surgery times.\")\n",
        "else:\n",
        "    print(\"Fail to Reject H₀: No significant difference in surgery times.\")\n"
      ],
      "metadata": {
        "id": "ZpkL0rThST6R",
        "outputId": "d6b4cc8b-6bd8-49df-cd07-5bfb61e3f42a",
        "colab": {
          "base_uri": "https://localhost:8080/"
        }
      },
      "execution_count": null,
      "outputs": [
        {
          "output_type": "stream",
          "name": "stdout",
          "text": [
            "Z-Score: -2.3837\n",
            "P-Value: 0.0171\n",
            "Reject H₀: The hospitals have significantly different surgery times.\n"
          ]
        }
      ]
    },
    {
      "cell_type": "markdown",
      "source": [
        "🔹 Example 1: One-Sample t-Test"
      ],
      "metadata": {
        "id": "aUFBVSOpNRLr"
      }
    },
    {
      "cell_type": "code",
      "source": [
        "import math\n",
        "\n",
        "# Given data\n",
        "sample_mean = 68\n",
        "population_mean = 65\n",
        "sample_std = 5\n",
        "n = 25\n",
        "\n",
        "# Compute t-score\n",
        "t_score = (sample_mean - population_mean) / (sample_std / math.sqrt(n))\n",
        "print(f\"T-score: {t_score:.4f}\")\n",
        "from scipy.stats import t\n",
        "\n",
        "df = n - 1  # Degrees of freedom\n",
        "p_value_one_tailed = 1 - t.cdf(abs(t_score), df)  # One-tailed test\n",
        "p_value_two_tailed = 2 * p_value_one_tailed  # Two-tailed test\n",
        "\n",
        "print(f\"One-tailed p-value: {p_value_one_tailed:.4f}\")\n",
        "print(f\"Two-tailed p-value: {p_value_two_tailed:.4f}\")"
      ],
      "metadata": {
        "id": "rAre1hvENLZa",
        "colab": {
          "base_uri": "https://localhost:8080/"
        },
        "outputId": "c07c3374-9cb0-43c0-aecb-bc529671329f"
      },
      "execution_count": null,
      "outputs": [
        {
          "output_type": "stream",
          "name": "stdout",
          "text": [
            "T-score: 3.0000\n",
            "One-tailed p-value: 0.0031\n",
            "Two-tailed p-value: 0.0062\n"
          ]
        }
      ]
    },
    {
      "cell_type": "markdown",
      "source": [
        "Chi-square test"
      ],
      "metadata": {
        "id": "y8oyGqtfdQO9"
      }
    },
    {
      "cell_type": "code",
      "source": [
        "observed = [[30,10],[20,30]]\n",
        "row_total = [sum(row) for row in observed]\n",
        "col_total = [sum(col) for col in zip(*observed)]\n",
        "grand_total = sum(row_total)\n",
        "df = (len(observed) - 1)*(len(observed[0])-1)\n",
        "expected = [[(row*col)/grand_total for col in col_total]for row in row_total]\n",
        "Chi_sqr = sum((observed[i][j]-expected[i][j])**2/expected[i][j] for i in range(len(observed)) for j in range(len(observed[0])))\n",
        "p_val = 1-stats.chi2.cdf(Chi_sqr, df)\n",
        "alpha = 0.05\n",
        "if p_val < alpha:\n",
        "  print('Reject H0')\n",
        "else:\n",
        "  print('Accept H0')"
      ],
      "metadata": {
        "colab": {
          "base_uri": "https://localhost:8080/"
        },
        "id": "vt-gwFXidSCB",
        "outputId": "01c8ee7e-d349-4ecd-a7e4-aa08e0b138a4"
      },
      "execution_count": null,
      "outputs": [
        {
          "output_type": "stream",
          "name": "stdout",
          "text": [
            "Reject H0\n"
          ]
        }
      ]
    },
    {
      "cell_type": "markdown",
      "source": [
        "Chi-Square Goodness-of-Fit Test"
      ],
      "metadata": {
        "id": "UrmTnwkAk0Fa"
      }
    },
    {
      "cell_type": "code",
      "source": [
        "import scipy.stats as stats\n",
        "\n",
        "# Observed frequencies (from sample data)\n",
        "observed = [50, 30, 20]\n",
        "\n",
        "# Expected frequencies (assumed distribution)\n",
        "expected = [40, 40, 20]\n",
        "\n",
        "# Compute Chi-Square Statistic (scratch)\n",
        "chi_square_stat = sum((o - e) ** 2 / e for o, e in zip(observed, expected))\n",
        "\n",
        "# Compute degrees of freedom\n",
        "df = len(observed) - 1\n",
        "\n",
        "# Compute p-value (Right-tailed test)\n",
        "p_value = 1 - stats.chi2.cdf(chi_square_stat, df)\n",
        "\n",
        "# Output results\n",
        "print(f\"Chi-Square Statistic: {chi_square_stat:.4f}\")\n",
        "print(f\"Degrees of Freedom: {df}\")\n",
        "print(f\"P-value: {p_value:.4f}\")\n",
        "\n",
        "# Decision based on significance level alpha = 0.05\n",
        "alpha = 0.05\n",
        "if p_value < alpha:\n",
        "    print(\"Reject the null hypothesis: The observed data does not fit the expected distribution.\")\n",
        "else:\n",
        "    print(\"Fail to reject the null hypothesis: The observed data fits the expected distribution.\")\n"
      ],
      "metadata": {
        "colab": {
          "base_uri": "https://localhost:8080/"
        },
        "id": "06iyemxik1Gh",
        "outputId": "583a94ef-a199-4a4d-bde1-4f2d81251303"
      },
      "execution_count": null,
      "outputs": [
        {
          "output_type": "stream",
          "name": "stdout",
          "text": [
            "Chi-Square Statistic: 5.0000\n",
            "Degrees of Freedom: 2\n",
            "P-value: 0.0821\n",
            "Fail to reject the null hypothesis: The observed data fits the expected distribution.\n"
          ]
        }
      ]
    },
    {
      "cell_type": "markdown",
      "source": [
        "F-Test"
      ],
      "metadata": {
        "id": "w2x3m3DelfPi"
      }
    },
    {
      "cell_type": "code",
      "source": [
        "import scipy.stats as stats\n",
        "\n",
        "# Sample data\n",
        "sample1 = [10, 12, 9, 11, 13, 14, 8, 12, 11]\n",
        "sample2 = [8, 7, 6, 9, 10, 5, 7, 8, 6]\n",
        "\n",
        "# Compute variances\n",
        "var1 = sum((x - sum(sample1)/len(sample1))**2 for x in sample1) / (len(sample1)-1)\n",
        "var2 = sum((x - sum(sample2)/len(sample2))**2 for x in sample2) / (len(sample2)-1)\n",
        "\n",
        "# Ensure F = Larger Variance / Smaller Variance\n",
        "F_statistic = max(var1, var2) / min(var1, var2)\n",
        "\n",
        "# Degrees of freedom\n",
        "df1 = len(sample1) - 1\n",
        "df2 = len(sample2) - 1\n",
        "\n",
        "# Compute p-value\n",
        "p_value = 1 - stats.f.cdf(F_statistic, df1, df2)\n",
        "\n",
        "# Print results\n",
        "print(f\"F-statistic: {F_statistic:.4f}\")\n",
        "print(f\"Degrees of Freedom: df1={df1}, df2={df2}\")\n",
        "print(f\"P-value: {p_value:.4f}\")\n",
        "\n",
        "# Decision based on significance level alpha = 0.05\n",
        "alpha = 0.05\n",
        "if p_value < alpha:\n",
        "    print(\"Reject the null hypothesis: The variances are significantly different.\")\n",
        "else:\n",
        "    print(\"Fail to reject the null hypothesis: The variances are similar.\")\n"
      ],
      "metadata": {
        "colab": {
          "base_uri": "https://localhost:8080/"
        },
        "id": "mFLSvRZBlbdz",
        "outputId": "3d72bea6-66c3-4dc2-a4ab-c5e6386376bf"
      },
      "execution_count": null,
      "outputs": [
        {
          "output_type": "stream",
          "name": "stdout",
          "text": [
            "F-statistic: 1.4444\n",
            "Degrees of Freedom: df1=8, df2=8\n",
            "P-value: 0.3076\n",
            "Fail to reject the null hypothesis: The variances are similar.\n"
          ]
        }
      ]
    },
    {
      "cell_type": "markdown",
      "source": [
        "One Way anova"
      ],
      "metadata": {
        "id": "NUFq6pQ1xPKf"
      }
    },
    {
      "cell_type": "code",
      "source": [
        "import scipy.stats as stats\n",
        "# Sample data\n",
        "group1 = [10, 12, 9, 11, 13]\n",
        "group2 = [8, 7, 6, 9, 10]\n",
        "group3 = [14, 13, 15, 12, 16]\n",
        "n1 = len(group1)\n",
        "n2 = len(group2)\n",
        "n3 = len(group3)\n",
        "g1_m = sum(group1)/n1\n",
        "g2_m = sum(group2)/ n2\n",
        "g3_m = sum(group3)/ n3\n",
        "grand_m = (g1_m + g2_m + g3_m)/3\n",
        "\n",
        "ssb = n1*(g1_m - grand_m)**2 + n2*(g2_m - grand_m)**2 + n3*(g3_m - grand_m)**2\n",
        "\n",
        "ssw = sum((x1 - g1_m)**2 for x1 in group1) + sum((x2-g2_m)**2 for x2 in group2) + sum((x3 - g3_m)**2 for x3 in group3)\n",
        "df1 = 3-1\n",
        "df2 = (n1+n2+n3)-3\n",
        "msb = ssb/df1\n",
        "msw = ssw/df2\n",
        "\n",
        "f_statistic = msb/msw\n",
        "p_val = 1 - stats.f.cdf(f_statistic, df1, df2)\n",
        "if p_val < 0.05:\n",
        "  print('Reject h0')\n",
        "else:\n",
        "  print('Accept H0')"
      ],
      "metadata": {
        "colab": {
          "base_uri": "https://localhost:8080/"
        },
        "id": "Kh7zPgPzxQ10",
        "outputId": "04ccf736-973c-4b20-8247-5d2c62931344"
      },
      "execution_count": null,
      "outputs": [
        {
          "output_type": "stream",
          "name": "stdout",
          "text": [
            "Reject h0\n"
          ]
        }
      ]
    },
    {
      "cell_type": "code",
      "source": [
        "import numpy as np\n",
        "from scipy.stats import f\n",
        "\n",
        "# Sample data\n",
        "group1 = [10, 12, 9, 11, 13]\n",
        "group2 = [8, 7, 6, 9, 10]\n",
        "group3 = [14, 13, 15, 12, 16]\n",
        "\n",
        "# Step 1: Calculate the mean of each group\n",
        "mean1 = np.mean(group1)\n",
        "mean2 = np.mean(group2)\n",
        "mean3 = np.mean(group3)\n",
        "\n",
        "# Step 2: Calculate the overall mean (Grand Mean)\n",
        "grand_mean = np.mean(group1 + group2 + group3)\n",
        "\n",
        "# Step 3: Calculate the Sum of Squares Between (SSB)\n",
        "ssb = len(group1) * (mean1 - grand_mean) ** 2 + len(group2) * (mean2 - grand_mean) ** 2 + len(group3) * (mean3 - grand_mean) ** 2\n",
        "\n",
        "# Step 4: Calculate the Sum of Squares Within (SSW)\n",
        "ssw = sum((x - mean1) ** 2 for x in group1) + sum((x - mean2) ** 2 for x in group2) + sum((x - mean3) ** 2 for x in group3)\n",
        "\n",
        "# Step 5: Calculate the Mean Squares\n",
        "msb = ssb / (3 - 1)  # Degrees of freedom for between groups (k - 1), where k = number of groups\n",
        "msw = ssw / (len(group1) + len(group2) + len(group3) - 3)  # Degrees of freedom for within groups (N - k)\n",
        "\n",
        "# Step 6: Calculate the F-statistic\n",
        "f_statistic = msb / msw\n",
        "\n",
        "# Step 7: Find the p-value from the F-distribution (df1 = k - 1, df2 = N - k)\n",
        "df1 = 3 - 1  # Degrees of freedom for between groups\n",
        "df2 = len(group1) + len(group2) + len(group3) - 3  # Degrees of freedom for within groups\n",
        "p_value = 1 - f.cdf(f_statistic, df1, df2)\n",
        "\n",
        "# Step 8: Decision Rule (Alpha = 0.05)\n",
        "alpha = 0.05\n",
        "if p_value < alpha:\n",
        "    print(f\"Reject H0: There is a significant difference. p-value = {p_value}\")\n",
        "else:\n",
        "    print(f\"Fail to reject H0: There is no significant difference. p-value = {p_value}\")\n"
      ],
      "metadata": {
        "id": "ECOmwYci0thB",
        "outputId": "ca585eff-0af3-4e5b-ad90-7ef9d24d2ecb",
        "colab": {
          "base_uri": "https://localhost:8080/"
        }
      },
      "execution_count": null,
      "outputs": [
        {
          "output_type": "stream",
          "name": "stdout",
          "text": [
            "Reject H0: There is a significant difference. p-value = 0.000244140625\n"
          ]
        }
      ]
    }
  ]
}