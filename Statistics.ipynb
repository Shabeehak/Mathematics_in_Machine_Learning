{
  "nbformat": 4,
  "nbformat_minor": 0,
  "metadata": {
    "colab": {
      "provenance": [],
      "authorship_tag": "ABX9TyN2HAuBhjsagHDJSczKMHAg",
      "include_colab_link": true
    },
    "kernelspec": {
      "name": "python3",
      "display_name": "Python 3"
    },
    "language_info": {
      "name": "python"
    }
  },
  "cells": [
    {
      "cell_type": "markdown",
      "metadata": {
        "id": "view-in-github",
        "colab_type": "text"
      },
      "source": [
        "<a href=\"https://colab.research.google.com/github/Shabeehak/Mathematics_in_Machine_Learning/blob/main/Statistics.ipynb\" target=\"_parent\"><img src=\"https://colab.research.google.com/assets/colab-badge.svg\" alt=\"Open In Colab\"/></a>"
      ]
    },
    {
      "cell_type": "markdown",
      "source": [
        "DESCRIPTIVE STATISTICS"
      ],
      "metadata": {
        "id": "JbDYyuYLK3r9"
      }
    },
    {
      "cell_type": "markdown",
      "source": [
        "Measure of Central Tendency Python Implementation"
      ],
      "metadata": {
        "id": "FlE3jvI43NSP"
      }
    },
    {
      "cell_type": "code",
      "source": [
        "#MEAN\n",
        "def mean_values(arr):\n",
        "  n = len(arr)\n",
        "  sum = 0\n",
        "  for i in arr:\n",
        "    sum +=i\n",
        "  mean = sum/n\n",
        "  return mean\n",
        "arr = [3,6,2,9,1]\n",
        "m_arr = mean_values(arr)\n",
        "print('Mean of array:', m_arr)"
      ],
      "metadata": {
        "colab": {
          "base_uri": "https://localhost:8080/"
        },
        "id": "uPUWS42Q3Vfd",
        "outputId": "c1492d72-efad-4d32-b014-178dea02b02e"
      },
      "execution_count": null,
      "outputs": [
        {
          "output_type": "stream",
          "name": "stdout",
          "text": [
            "Mean of array: 4.2\n"
          ]
        }
      ]
    },
    {
      "cell_type": "code",
      "source": [
        "#By in-build method\n",
        "import statistics\n",
        "statistics.mean(arr)"
      ],
      "metadata": {
        "colab": {
          "base_uri": "https://localhost:8080/"
        },
        "id": "XZ0AEfPd-L3-",
        "outputId": "8b8bf127-3713-4595-dc94-b2d4b226841a"
      },
      "execution_count": null,
      "outputs": [
        {
          "output_type": "execute_result",
          "data": {
            "text/plain": [
              "4.2"
            ]
          },
          "metadata": {},
          "execution_count": 16
        }
      ]
    },
    {
      "cell_type": "code",
      "source": [
        "#MEDIAN\n",
        "def median_value(arr):\n",
        "  arr.sort()\n",
        "  if len(arr)%2==0:\n",
        "    median = (arr[len(arr)//2]+arr[(len(arr)//2)-1])/2\n",
        "  else:\n",
        "    median = arr[len(arr)//2]\n",
        "  return median\n",
        "arr = [1,2,3,4,5,6]\n",
        "arr_median = median_value(arr)\n",
        "print('Median of array:', arr_median)"
      ],
      "metadata": {
        "colab": {
          "base_uri": "https://localhost:8080/"
        },
        "id": "wnEzTLxq4lqr",
        "outputId": "d25b66b5-267c-4ba5-e59c-80d9e46eeaeb"
      },
      "execution_count": null,
      "outputs": [
        {
          "output_type": "stream",
          "name": "stdout",
          "text": [
            "Median of array: 3.5\n"
          ]
        }
      ]
    },
    {
      "cell_type": "code",
      "source": [
        "#in-build median\n",
        "statistics.median(arr)"
      ],
      "metadata": {
        "colab": {
          "base_uri": "https://localhost:8080/"
        },
        "id": "cZRAtld5_CxA",
        "outputId": "a4740bcc-248d-4b91-d6df-dc9bffb9e7b8"
      },
      "execution_count": null,
      "outputs": [
        {
          "output_type": "execute_result",
          "data": {
            "text/plain": [
              "3.5"
            ]
          },
          "metadata": {},
          "execution_count": 18
        }
      ]
    },
    {
      "cell_type": "code",
      "source": [
        "#MODE\n",
        "def mode_value(arr):\n",
        "  frequency = {}\n",
        "  for i in arr:\n",
        "    if i in frequency:\n",
        "      frequency[i]+=1\n",
        "    else:\n",
        "      frequency[i]=1\n",
        "    repeated = max(frequency.values())\n",
        "    mode = [key for key, value in frequency.items() if value==repeated]\n",
        "  return mode\n",
        "data = [4, 1, 2, 2, 3, 4, 4, 5, 5,5,5, 4]\n",
        "mode_data = mode_value(data)\n",
        "print('Mode of data 1:', mode_data)\n",
        "val = [4, 5, 6, 4, 5, 5, 6, 6]\n",
        "mode_val = mode_value(val)\n",
        "print('Mode of data 2:', mode_val)"
      ],
      "metadata": {
        "colab": {
          "base_uri": "https://localhost:8080/"
        },
        "id": "f8xEf8s06Dix",
        "outputId": "2883226d-f9fa-40ec-ec3e-8adc8da6d5bf"
      },
      "execution_count": null,
      "outputs": [
        {
          "output_type": "stream",
          "name": "stdout",
          "text": [
            "Mode of data 1: [4, 5]\n",
            "Mode of data 2: [5, 6]\n"
          ]
        }
      ]
    },
    {
      "cell_type": "code",
      "source": [
        "#in-build mode\n",
        "statistics.mode(data)"
      ],
      "metadata": {
        "colab": {
          "base_uri": "https://localhost:8080/"
        },
        "id": "LtStGwE7_PcE",
        "outputId": "d1db1e22-4622-43ce-cae8-379ada9c27ea"
      },
      "execution_count": null,
      "outputs": [
        {
          "output_type": "execute_result",
          "data": {
            "text/plain": [
              "4"
            ]
          },
          "metadata": {},
          "execution_count": 19
        }
      ]
    },
    {
      "cell_type": "markdown",
      "source": [
        "Weighted Mean"
      ],
      "metadata": {
        "id": "nWCxgglRAemp"
      }
    },
    {
      "cell_type": "code",
      "source": [
        "import pandas as pd\n",
        "\n",
        "\n",
        "def weighted_average(dataframe, value, weight):\n",
        "\tval = dataframe[value]\n",
        "\twt = dataframe[weight]\n",
        "\treturn (val * wt).sum() / wt.sum()\n",
        "\n",
        "\n",
        "# creating a dataframe to represent different\n",
        "# items and their corresponding weight and value\n",
        "dataframe = pd.DataFrame({'item_name': ['Chocolate', 'Chocolate',\n",
        "\t\t\t\t\t\t\t\t\t\t'Chocolate', 'Biscuit',\n",
        "\t\t\t\t\t\t\t\t\t\t'Biscuit', 'Biscuit',\n",
        "\t\t\t\t\t\t\t\t\t\t'IceCream', 'IceCream',\n",
        "\t\t\t\t\t\t\t\t\t\t'IceCream'],\n",
        "\t\t\t\t\t\t'value': [90, 50, 86, 87, 42, 48,\n",
        "\t\t\t\t\t\t\t\t\t68, 92, 102],\n",
        "\t\t\t\t\t\t'weight': [4, 2, 3, 5, 6, 5, 3, 7,\n",
        "\t\t\t\t\t\t\t\t\t5]})\n",
        "\n",
        "# Weighted average of value grouped by item name\n",
        "dataframe.groupby('item_name').apply(weighted_average,\n",
        "\t\t\t\t\t\t\t\t\t'value', 'weight')\n"
      ],
      "metadata": {
        "colab": {
          "base_uri": "https://localhost:8080/",
          "height": 264
        },
        "id": "rB6ESTJPAhrc",
        "outputId": "80f57f4d-d0be-4ed9-80d4-d69627c30046"
      },
      "execution_count": null,
      "outputs": [
        {
          "output_type": "stream",
          "name": "stderr",
          "text": [
            "<ipython-input-2-d35d8b9a8eaf>:23: DeprecationWarning: DataFrameGroupBy.apply operated on the grouping columns. This behavior is deprecated, and in a future version of pandas the grouping columns will be excluded from the operation. Either pass `include_groups=False` to exclude the groupings or explicitly select the grouping columns after groupby to silence this warning.\n",
            "  dataframe.groupby('item_name').apply(weighted_average,\n"
          ]
        },
        {
          "output_type": "execute_result",
          "data": {
            "text/plain": [
              "item_name\n",
              "Biscuit      57.937500\n",
              "Chocolate    79.777778\n",
              "IceCream     90.533333\n",
              "dtype: float64"
            ],
            "text/html": [
              "<div>\n",
              "<style scoped>\n",
              "    .dataframe tbody tr th:only-of-type {\n",
              "        vertical-align: middle;\n",
              "    }\n",
              "\n",
              "    .dataframe tbody tr th {\n",
              "        vertical-align: top;\n",
              "    }\n",
              "\n",
              "    .dataframe thead th {\n",
              "        text-align: right;\n",
              "    }\n",
              "</style>\n",
              "<table border=\"1\" class=\"dataframe\">\n",
              "  <thead>\n",
              "    <tr style=\"text-align: right;\">\n",
              "      <th></th>\n",
              "      <th>0</th>\n",
              "    </tr>\n",
              "    <tr>\n",
              "      <th>item_name</th>\n",
              "      <th></th>\n",
              "    </tr>\n",
              "  </thead>\n",
              "  <tbody>\n",
              "    <tr>\n",
              "      <th>Biscuit</th>\n",
              "      <td>57.937500</td>\n",
              "    </tr>\n",
              "    <tr>\n",
              "      <th>Chocolate</th>\n",
              "      <td>79.777778</td>\n",
              "    </tr>\n",
              "    <tr>\n",
              "      <th>IceCream</th>\n",
              "      <td>90.533333</td>\n",
              "    </tr>\n",
              "  </tbody>\n",
              "</table>\n",
              "</div><br><label><b>dtype:</b> float64</label>"
            ]
          },
          "metadata": {},
          "execution_count": 2
        }
      ]
    },
    {
      "cell_type": "markdown",
      "source": [],
      "metadata": {
        "id": "nAZd1Aw6K2GJ"
      }
    },
    {
      "cell_type": "markdown",
      "source": [
        "Trimmed Mean"
      ],
      "metadata": {
        "id": "PuvqFn3i_9MH"
      }
    },
    {
      "cell_type": "code",
      "source": [
        "from scipy import stats\n",
        "\n",
        "#define data\n",
        "data = [22, 25, 29, 11, 14, 18, 13, 13, 17, 11, 8, 8, 7, 12, 15, 6, 8, 7, 9, 12]\n",
        "\n",
        "#calculate 10% trimmed mean\n",
        "stats.trim_mean(data, 0.1)"
      ],
      "metadata": {
        "colab": {
          "base_uri": "https://localhost:8080/"
        },
        "id": "3zfL3-Cy_6T5",
        "outputId": "e96b0aa7-0d91-4e9e-941f-ef43616727f0"
      },
      "execution_count": null,
      "outputs": [
        {
          "output_type": "execute_result",
          "data": {
            "text/plain": [
              "12.375"
            ]
          },
          "metadata": {},
          "execution_count": 1
        }
      ]
    },
    {
      "cell_type": "markdown",
      "source": [
        "Measure of Variability"
      ],
      "metadata": {
        "id": "fHOWkJuMWO7e"
      }
    },
    {
      "cell_type": "markdown",
      "source": [
        "1. Range"
      ],
      "metadata": {
        "id": "fx9dz1OfWYzI"
      }
    },
    {
      "cell_type": "code",
      "source": [
        "def calculate_range(data):\n",
        "    # Step 1: Find the maximum and minimum values in the data\n",
        "    max_value = max(data)\n",
        "    min_value = min(data)\n",
        "\n",
        "    # Step 2: Calculate the range (max - min)\n",
        "    range_value = max_value - min_value\n",
        "\n",
        "    return range_value\n",
        "\n",
        "# Example data\n",
        "data = [4, 7, 2, 9, 5, 8]\n",
        "\n",
        "# Call function to calculate range\n",
        "range_value = calculate_range(data)\n",
        "print(\"Range of the data:\", range_value)\n"
      ],
      "metadata": {
        "colab": {
          "base_uri": "https://localhost:8080/"
        },
        "id": "cmb7w5kkWYTY",
        "outputId": "a9f79139-49bd-4e34-ee97-25c3790518df"
      },
      "execution_count": null,
      "outputs": [
        {
          "output_type": "stream",
          "name": "stdout",
          "text": [
            "Range of the data: 7\n"
          ]
        }
      ]
    },
    {
      "cell_type": "markdown",
      "source": [
        "Variance and MAD for a dataset"
      ],
      "metadata": {
        "id": "abxjPk_cPjK9"
      }
    },
    {
      "cell_type": "code",
      "source": [
        "import numpy as np\n",
        "\n",
        "# Sample data\n",
        "data = np.array([1, 2, 3, 4, 5, 6, 7, 8, 9, 10])\n",
        "\n",
        "# Mean of the data\n",
        "mean = np.mean(data)\n",
        "\n",
        "# Variance\n",
        "variance = np.var(data)\n",
        "\n",
        "# MAD\n",
        "mad = np.mean(np.abs(data - mean))\n",
        "\n",
        "print(f\"Variance: {variance}\")\n",
        "print(f\"MAD: {mad}\")\n"
      ],
      "metadata": {
        "colab": {
          "base_uri": "https://localhost:8080/"
        },
        "id": "WibfWuJ2Pllo",
        "outputId": "03cf7126-c288-4556-fc13-4ba5b4ac143b"
      },
      "execution_count": null,
      "outputs": [
        {
          "output_type": "stream",
          "name": "stdout",
          "text": [
            "Variance: 8.25\n",
            "MAD: 2.5\n"
          ]
        }
      ]
    },
    {
      "cell_type": "markdown",
      "source": [
        "Standard Deviation"
      ],
      "metadata": {
        "id": "nCpQafCAXCjw"
      }
    },
    {
      "cell_type": "code",
      "source": [
        "import math\n",
        "\n",
        "def calculate_standard_deviation(data):\n",
        "    # Step 1: Calculate the mean\n",
        "    mean = sum(data) / len(data)\n",
        "\n",
        "    # Step 2: Calculate the squared differences from the mean\n",
        "    squared_diffs = [(x - mean) ** 2 for x in data]\n",
        "\n",
        "    # Step 3: Calculate the variance\n",
        "    variance = sum(squared_diffs) / len(data)  # For population standard deviation\n",
        "\n",
        "    # Step 4: Return the standard deviation (square root of variance)\n",
        "    return math.sqrt(variance)\n",
        "\n",
        "# Example data\n",
        "data = [4, 7, 2, 9, 5, 8]\n",
        "\n",
        "# Call function to calculate standard deviation\n",
        "std_dev = calculate_standard_deviation(data)\n",
        "print(\"Standard Deviation (manual):\", std_dev)\n"
      ],
      "metadata": {
        "colab": {
          "base_uri": "https://localhost:8080/"
        },
        "id": "AqLUJhvWWmch",
        "outputId": "301f9461-e2ea-46a3-9667-7665c8a159bb"
      },
      "execution_count": null,
      "outputs": [
        {
          "output_type": "stream",
          "name": "stdout",
          "text": [
            "Standard Deviation (manual): 2.4094720491334933\n"
          ]
        }
      ]
    },
    {
      "cell_type": "code",
      "source": [
        "# Example data\n",
        "data = [4, 7, 2, 9, 5, 8]\n",
        "\n",
        "# Using NumPy to calculate standard deviation\n",
        "std_dev_numpy = np.std(data)\n",
        "print(\"Standard Deviation (NumPy):\", std_dev_numpy)\n"
      ],
      "metadata": {
        "colab": {
          "base_uri": "https://localhost:8080/"
        },
        "id": "a1E7RbW-WpE6",
        "outputId": "7559d7b0-e310-4b68-8e7b-0c8a42e45b52"
      },
      "execution_count": null,
      "outputs": [
        {
          "output_type": "stream",
          "name": "stdout",
          "text": [
            "Standard Deviation (NumPy): 2.4094720491334933\n"
          ]
        }
      ]
    },
    {
      "cell_type": "code",
      "source": [
        "import numpy as np\n",
        "import matplotlib.pyplot as plt\n",
        "\n",
        "# Create data for two normal distributions with different standard deviations\n",
        "x = np.linspace(-10, 10, 1000)\n",
        "y1 = (1 / (np.sqrt(2 * np.pi * 1**2))) * np.exp(-0.5 * (x / 1)**2)  # std = 1\n",
        "y2 = (1 / (np.sqrt(2 * np.pi * 3**2))) * np.exp(-0.5 * (x / 3)**2)  # std = 3\n",
        "\n",
        "# Plot both distributions\n",
        "plt.plot(x, y1, label='Std = 1 (Narrow Peak)', color='blue')\n",
        "plt.plot(x, y2, label='Std = 3 (Wide Peak)', color='red')\n",
        "plt.legend()\n",
        "plt.title('Normal Distribution with Different Standard Deviations')\n",
        "plt.xlabel('X')\n",
        "plt.ylabel('Density')\n",
        "plt.grid(True)\n",
        "plt.show()\n"
      ],
      "metadata": {
        "colab": {
          "base_uri": "https://localhost:8080/",
          "height": 472
        },
        "id": "Jc0Jq3l2V5tl",
        "outputId": "b7a6d53e-72c1-40b5-eb04-ca00f7a98086"
      },
      "execution_count": null,
      "outputs": [
        {
          "output_type": "display_data",
          "data": {
            "text/plain": [
              "<Figure size 640x480 with 1 Axes>"
            ],
            "image/png": "[encoded data removed]"
          },
          "metadata": {}
        }
      ]
    },
    {
      "cell_type": "markdown",
      "source": [
        "Coefficient of Variation"
      ],
      "metadata": {
        "id": "ACcc9kiLYKvI"
      }
    },
    {
      "cell_type": "code",
      "source": [
        "import numpy as np\n",
        "\n",
        "def calculate_coefficient_of_variation(data):\n",
        "    mean = np.mean(data)\n",
        "    std_dev = np.std(data)\n",
        "    cv = (std_dev / mean) * 100  # Coefficient of Variation (in percentage)\n",
        "    return cv\n",
        "\n",
        "# Example data\n",
        "data = [4, 7, 2, 9, 5, 8]\n",
        "\n",
        "# Calculate CV\n",
        "cv_value = calculate_coefficient_of_variation(data)\n",
        "print(\"Coefficient of Variation:\", cv_value)\n"
      ],
      "metadata": {
        "colab": {
          "base_uri": "https://localhost:8080/"
        },
        "id": "1kF2Bw5RYKDd",
        "outputId": "1220ba9f-7368-44e2-de14-081d192ef5fa"
      },
      "execution_count": null,
      "outputs": [
        {
          "output_type": "stream",
          "name": "stdout",
          "text": [
            "Coefficient of Variation: 41.30523512800274\n"
          ]
        }
      ]
    },
    {
      "cell_type": "markdown",
      "source": [
        "Interquartile Range"
      ],
      "metadata": {
        "id": "LMLqk4y3b1Ng"
      }
    },
    {
      "cell_type": "code",
      "source": [
        "# Sample data\n",
        "data = [3, 7, 8, 2, 5, 9, 12, 5, 7, 5]\n",
        "\n",
        "# Calculate Q1 and Q3 using numpy\n",
        "Q1 = np.percentile(data, 25)\n",
        "Q3 = np.percentile(data, 75)\n",
        "\n",
        "# Interquartile Range (IQR)\n",
        "IQR = Q3 - Q1\n",
        "\n",
        "print(f\"First Quartile (Q1): {Q1}\")\n",
        "print(f\"Third Quartile (Q3): {Q3}\")\n",
        "print(f\"Interquartile Range (IQR): {IQR}\")\n"
      ],
      "metadata": {
        "colab": {
          "base_uri": "https://localhost:8080/"
        },
        "id": "PWn6xuxSb3qn",
        "outputId": "57997a84-9642-48dd-9311-6c7442d18a3a"
      },
      "execution_count": null,
      "outputs": [
        {
          "output_type": "stream",
          "name": "stdout",
          "text": [
            "First Quartile (Q1): 5.0\n",
            "Third Quartile (Q3): 7.75\n",
            "Interquartile Range (IQR): 2.75\n"
          ]
        }
      ]
    },
    {
      "cell_type": "code",
      "source": [
        "#using scipy library\n",
        "from scipy import stats\n",
        "\n",
        "# Sample data\n",
        "data = [3, 7, 8, 2, 5, 9, 12, 5, 7, 5]\n",
        "\n",
        "# Calculate IQR using scipy.stats.iqr\n",
        "IQR = stats.iqr(data)\n",
        "\n",
        "print(f\"Interquartile Range (IQR): {IQR}\")\n"
      ],
      "metadata": {
        "colab": {
          "base_uri": "https://localhost:8080/"
        },
        "id": "_DoITWnkcHHP",
        "outputId": "dd7f208d-9767-4dd5-f77a-71c7c9373ce6"
      },
      "execution_count": null,
      "outputs": [
        {
          "output_type": "stream",
          "name": "stdout",
          "text": [
            "Interquartile Range (IQR): 2.75\n"
          ]
        }
      ]
    },
    {
      "cell_type": "markdown",
      "source": [
        "**Measures of Shape**"
      ],
      "metadata": {
        "id": "hpbfAF7ZydiB"
      }
    },
    {
      "cell_type": "markdown",
      "source": [
        "Skewness"
      ],
      "metadata": {
        "id": "zuYp0MxM2XfI"
      }
    },
    {
      "cell_type": "markdown",
      "source": [
        "1. Visual Inspection of Skewness"
      ],
      "metadata": {
        "id": "Zh06QBkm8ZEp"
      }
    },
    {
      "cell_type": "code",
      "source": [
        "import numpy as np\n",
        "import matplotlib.pyplot as plt\n",
        "import seaborn as sns\n",
        "\n",
        "# Sample data\n",
        "data = [10, 12, 13, 15, 15, 16, 17, 18, 40, 50]\n",
        "\n",
        "# Plotting Histogram\n",
        "plt.figure(figsize=(10, 5))\n",
        "\n",
        "# Histogram for skewness visualization\n",
        "plt.subplot(1, 2, 1)\n",
        "plt.hist(data, bins=10, color='skyblue', edgecolor='black')\n",
        "plt.title('Histogram')\n",
        "plt.xlabel('Value')\n",
        "plt.ylabel('Frequency')\n",
        "\n",
        "# Boxplot for skewness visualization\n",
        "plt.subplot(1, 2, 2)\n",
        "sns.boxplot(data=data, color='lightgreen')\n",
        "plt.title('Boxplot')\n",
        "plt.xlabel('Data')\n",
        "\n",
        "plt.tight_layout()\n",
        "plt.show()\n"
      ],
      "metadata": {
        "colab": {
          "base_uri": "https://localhost:8080/",
          "height": 507
        },
        "id": "8lZvY2Dg3mNh",
        "outputId": "5f9f4038-1269-47c1-951a-a258850ba073"
      },
      "execution_count": null,
      "outputs": [
        {
          "output_type": "display_data",
          "data": {
            "text/plain": [
              "<Figure size 1000x500 with 2 Axes>"
            ],
            "image/png": "[encoded data removed]"
          },
          "metadata": {}
        }
      ]
    },
    {
      "cell_type": "markdown",
      "source": [
        "**Histogram:** This shows the frequency distribution of the data. Since the histogram will have a long right tail, the data is positively skewed.\n",
        "**Box Plot:** The box plot provides a visual summary of the data’s distribution. Since the median line is closer to the top of the box,and there are outliers (dots far away from the box), it suggests positive skewness."
      ],
      "metadata": {
        "id": "GjEoyetB4Mch"
      }
    },
    {
      "cell_type": "markdown",
      "source": [
        "2. Pearson’s First Coefficient of Skewness (Mode-Based)"
      ],
      "metadata": {
        "id": "xgyEjIPf8Vbr"
      }
    },
    {
      "cell_type": "code",
      "source": [
        "import statistics\n",
        "def pearson_first_skewness(data):\n",
        "    mean = np.mean(data)\n",
        "    mode = statistics.mode(data)  # Extract the mode value\n",
        "    std_dev = np.std(data, ddof=0)  # Population standard deviation\n",
        "    skewness = (mean - mode) / std_dev\n",
        "    return skewness\n",
        "\n",
        "# Example Data\n",
        "data = [10, 12, 13, 15, 15, 16, 17, 18, 40, 50]\n",
        "skewness_value= pearson_first_skewness(data)\n",
        "print(\"Pearson's First Skewness:\",skewness_value )\n",
        "# Interpretation\n",
        "if skewness_value > 0:\n",
        "    print(\"The data is positively skewed (right-skewed).\")\n",
        "elif skewness_value < 0:\n",
        "    print(\"The data is negatively skewed (left-skewed).\")\n",
        "else:\n",
        "    print(\"The data is approximately symmetric.\")\n"
      ],
      "metadata": {
        "colab": {
          "base_uri": "https://localhost:8080/"
        },
        "id": "c3nWl2YQ2wfE",
        "outputId": "4b85dcc3-9cef-4afd-ccec-1fb96300eb86"
      },
      "execution_count": null,
      "outputs": [
        {
          "output_type": "stream",
          "name": "stdout",
          "text": [
            "Pearson's First Skewness: 0.4443325077988097\n",
            "The data is positively skewed (right-skewed).\n"
          ]
        }
      ]
    },
    {
      "cell_type": "markdown",
      "source": [
        "3. Pearson’s Second Coefficient of Skewness (Median-Based)"
      ],
      "metadata": {
        "id": "Ac0q2lnr9sFK"
      }
    },
    {
      "cell_type": "code",
      "source": [
        "def pearson_second_skewness(data):\n",
        "    mean = np.mean(data)\n",
        "    median = np.median(data)\n",
        "    std_dev = np.std(data, ddof=0)  # Population standard deviation\n",
        "    skewness = 3 * (mean - median) / std_dev\n",
        "    return skewness\n",
        "skewness_value =  pearson_second_skewness(data)\n",
        "print(\"Pearson's Second Skewness:\",skewness_value)\n",
        "if skewness_value > 0:\n",
        "    print(\"The data is positively skewed (right-skewed).\")\n",
        "elif skewness_value < 0:\n",
        "    print(\"The data is negatively skewed (left-skewed).\")\n",
        "else:\n",
        "    print(\"The data is approximately symmetric.\")\n"
      ],
      "metadata": {
        "colab": {
          "base_uri": "https://localhost:8080/"
        },
        "id": "wtXnQS2P2YwV",
        "outputId": "6cdaba37-0ca5-43a7-c3bd-8f0da41a17e5"
      },
      "execution_count": null,
      "outputs": [
        {
          "output_type": "stream",
          "name": "stdout",
          "text": [
            "Pearson's Second Skewness: 1.2139798873788907\n",
            "The data is positively skewed (right-skewed).\n"
          ]
        }
      ]
    },
    {
      "cell_type": "markdown",
      "source": [
        "4. Fisher-Pearson (Moment-Based) Skewness"
      ],
      "metadata": {
        "id": "rkKPi_YJ_idJ"
      }
    },
    {
      "cell_type": "code",
      "source": [
        "def fisher_pearson_skewness(data):\n",
        "    n = len(data)\n",
        "    mean = np.mean(data)\n",
        "    std_dev = np.std(data, ddof=0)  # Population standard deviation\n",
        "    skewness = np.sum((data - mean) ** 3) / (n * std_dev ** 3)\n",
        "    return skewness\n",
        "skewness_value = fisher_pearson_skewness(data)\n",
        "print(\"Fisher-Pearson Skewness:\",skewness_value)\n",
        "if skewness_value > 0:\n",
        "    print(\"The data is positively skewed (right-skewed).\")\n",
        "elif skewness_value < 0:\n",
        "    print(\"The data is negatively skewed (left-skewed).\")\n",
        "else:\n",
        "    print(\"The data is approximately symmetric.\")"
      ],
      "metadata": {
        "colab": {
          "base_uri": "https://localhost:8080/"
        },
        "id": "TohxhvXB_kW2",
        "outputId": "4f40b67f-05b9-45c2-d7be-08dcbfdf2860"
      },
      "execution_count": null,
      "outputs": [
        {
          "output_type": "stream",
          "name": "stdout",
          "text": [
            "Fisher-Pearson Skewness: 1.4953242714878376\n",
            "The data is positively skewed (right-skewed).\n"
          ]
        }
      ]
    },
    {
      "cell_type": "markdown",
      "source": [
        "5. Bowley’s Skewness (Quartile-Based)"
      ],
      "metadata": {
        "id": "4vtr6eXqBYUl"
      }
    },
    {
      "cell_type": "code",
      "source": [
        "def bowley_skewness(data):\n",
        "    q1 = np.percentile(data, 25)  # First quartile\n",
        "    q2 = np.percentile(data, 50)  # Median (Q2)\n",
        "    q3 = np.percentile(data, 75)  # Third quartile\n",
        "    skewness = (q3 + q1 - 2 * q2) / (q3 - q1)\n",
        "    return skewness\n",
        "skewness_value = bowley_skewness(data)\n",
        "print(\"Bowley's Skewness:\", skewness_value)\n",
        "if skewness_value > 0:\n",
        "    print(\"The data is positively skewed (right-skewed).\")\n",
        "elif skewness_value < 0:\n",
        "    print(\"The data is negatively skewed (left-skewed).\")\n",
        "else:\n",
        "    print(\"The data is approximately symmetric.\")"
      ],
      "metadata": {
        "colab": {
          "base_uri": "https://localhost:8080/"
        },
        "id": "t6YhMCc9BZ8i",
        "outputId": "4a8edf7e-b9e5-4217-91a0-c781aae88c91"
      },
      "execution_count": null,
      "outputs": [
        {
          "output_type": "stream",
          "name": "stdout",
          "text": [
            "Bowley's Skewness: 0.058823529411764705\n",
            "The data is positively skewed (right-skewed).\n"
          ]
        }
      ]
    },
    {
      "cell_type": "markdown",
      "source": [
        "**Covarience and Correlation**"
      ],
      "metadata": {
        "id": "O0D9843ZHc9f"
      }
    },
    {
      "cell_type": "code",
      "source": [
        "#Scratch Implementation\n",
        "def covariance(X, Y):\n",
        "    n = len(X)\n",
        "    mean_x, mean_y = np.mean(X), np.mean(Y)\n",
        "    return sum((X - mean_x) * (Y - mean_y)) / n\n",
        "\n",
        "def correlation(X, Y):\n",
        "    cov = covariance(X, Y)\n",
        "    std_x, std_y = np.std(X), np.std(Y)\n",
        "    return cov / (std_x * std_y)\n",
        "\n",
        "# Sample Data\n",
        "X = np.array([1, 2, 3, 4, 5])\n",
        "Y = np.array([2, 3, 2, 5, 6])\n",
        "\n",
        "print(\"Covariance:\", covariance(X, Y))\n",
        "print(\"Correlation:\", correlation(X, Y))\n"
      ],
      "metadata": {
        "colab": {
          "base_uri": "https://localhost:8080/"
        },
        "id": "TrrqEDv3HmA_",
        "outputId": "4147c746-a5be-4c5e-8c2c-9e32a0ee2cc8"
      },
      "execution_count": null,
      "outputs": [
        {
          "output_type": "stream",
          "name": "stdout",
          "text": [
            "Covariance: 2.0\n",
            "Correlation: 0.8703882797784891\n"
          ]
        }
      ]
    },
    {
      "cell_type": "markdown",
      "source": [
        "*   Since covarience is positive it indicate direct relationship which means as X increases, then Y increases.\n",
        "*   And correlation is in between 0 and 1 which indicates weak to strong positive correlation"
      ],
      "metadata": {
        "id": "yGXpM6y2IFmL"
      }
    },
    {
      "cell_type": "code",
      "source": [
        "import numpy as np\n",
        "from scipy.stats import pearsonr\n",
        "\n",
        "X = np.array([1, 2, 3, 4, 5])\n",
        "Y = np.array([2, 3, 2, 5, 6])\n",
        "\n",
        "cov_matrix = np.cov(X, Y, bias=True)  # bias=True for population covariance\n",
        "corr, p_value = pearsonr(X, Y)\n",
        "\n",
        "print(\"Covariance (NumPy):\", cov_matrix[0, 1])\n",
        "print(\"Correlation (SciPy):\", corr)\n",
        "print(\"P-value:\", p_value)"
      ],
      "metadata": {
        "colab": {
          "base_uri": "https://localhost:8080/"
        },
        "id": "SSZwj2TNI7CS",
        "outputId": "96f843f7-a333-444d-dd9e-d70a98d2a3fc"
      },
      "execution_count": null,
      "outputs": [
        {
          "output_type": "stream",
          "name": "stdout",
          "text": [
            "Covariance (NumPy): 2.0\n",
            "Correlation (SciPy): 0.8703882797784892\n",
            "P-value: 0.05491252385363528\n"
          ]
        }
      ]
    },
    {
      "cell_type": "markdown",
      "source": [
        "\n",
        "\n",
        "*   Correlation coefficient of 0.748 indicates a moderately strong positive correlation between X and Y.\n",
        "*   P-value of 0.141 indicates that the correlation is not statistically significant at the common threshold of 0.05 (it suggests we cannot confidently reject the null hypothesis of no correlation).\n",
        "\n",
        "\n"
      ],
      "metadata": {
        "id": "fp-QsjaAKBNN"
      }
    },
    {
      "cell_type": "markdown",
      "source": [
        "**Probability**"
      ],
      "metadata": {
        "id": "wsURPZfMWtiG"
      }
    },
    {
      "cell_type": "code",
      "source": [
        "#calculate the probability of getting a head and a tail when tossing a coin\n",
        "# Define the sample space\n",
        "sample_space = ['H', 'T']\n",
        "\n",
        "# Define the probability of heads and tails (since the coin is fair)\n",
        "P_H = 1 / len(sample_space)  # Probability of getting heads\n",
        "P_T = 1 / len(sample_space)  # Probability of getting tails\n",
        "\n",
        "# Print the probabilities\n",
        "print(f\"Probability of Heads: {P_H}\")\n",
        "print(f\"Probability of Tails: {P_T}\")\n"
      ],
      "metadata": {
        "colab": {
          "base_uri": "https://localhost:8080/"
        },
        "id": "UxFo5idEWyVq",
        "outputId": "c0983197-50f6-4b2a-cfb9-f75bd7ce1846"
      },
      "execution_count": null,
      "outputs": [
        {
          "output_type": "stream",
          "name": "stdout",
          "text": [
            "Probability of Heads: 0.5\n",
            "Probability of Tails: 0.5\n"
          ]
        }
      ]
    },
    {
      "cell_type": "markdown",
      "source": [
        "RANDOM VARIABLE"
      ],
      "metadata": {
        "id": "R1ql8r55a9Nq"
      }
    },
    {
      "cell_type": "markdown",
      "source": [
        "1: Binomial Distribution (Discrete Random Variable)"
      ],
      "metadata": {
        "id": "-fEtb4yqa_pT"
      }
    },
    {
      "cell_type": "code",
      "source": [
        "# Define parameters for the binomial distribution\n",
        "n = 10  # number of trials\n",
        "p = 0.5  # probability of success (fair coin toss)\n",
        "size = 10000  # number of random variables to simulate\n",
        "\n",
        "# Generate random values following the binomial distribution\n",
        "binomial_random_variable = np.random.binomial(n, p, size)\n",
        "\n",
        "# Calculate the mean and variance\n",
        "mean = np.mean(binomial_random_variable)\n",
        "variance = np.var(binomial_random_variable)\n",
        "\n",
        "# Display the results\n",
        "print(f\"Mean: {mean}\")\n",
        "print(f\"Variance: {variance}\")\n",
        "\n",
        "# Plot the distribution\n",
        "plt.hist(binomial_random_variable, bins=range(n+1), density=True)\n",
        "plt.title(\"Binomial Distribution\")\n",
        "plt.xlabel(\"Number of successes\")\n",
        "plt.ylabel(\"Probability\")\n",
        "plt.show()\n"
      ],
      "metadata": {
        "colab": {
          "base_uri": "https://localhost:8080/",
          "height": 507
        },
        "id": "Z-4mkxNwbAfH",
        "outputId": "e7c18c03-72dd-45c5-d67b-814ac2d85505"
      },
      "execution_count": null,
      "outputs": [
        {
          "output_type": "stream",
          "name": "stdout",
          "text": [
            "Mean: 5.0133\n",
            "Variance: 2.4887231099999996\n"
          ]
        },
        {
          "output_type": "display_data",
          "data": {
            "text/plain": [
              "<Figure size 640x480 with 1 Axes>"
            ],
            "image/png": "[encoded data removed]"
          },
          "metadata": {}
        }
      ]
    },
    {
      "cell_type": "markdown",
      "source": [
        "2: Normal Distribution (Continuous Random Variable)"
      ],
      "metadata": {
        "id": "8SWX9tkVbY3_"
      }
    },
    {
      "cell_type": "code",
      "source": [
        "# Define parameters for the normal distribution\n",
        "mean = 0  # mean\n",
        "std_dev = 1  # standard deviation\n",
        "size = 10000  # number of random variables to simulate\n",
        "\n",
        "# Generate random values following the normal distribution\n",
        "normal_random_variable = np.random.normal(mean, std_dev, size)\n",
        "\n",
        "# Calculate the mean and variance\n",
        "mean_value = np.mean(normal_random_variable)\n",
        "variance_value = np.var(normal_random_variable)\n",
        "\n",
        "# Display the results\n",
        "print(f\"Mean: {mean_value}\")\n",
        "print(f\"Variance: {variance_value}\")\n",
        "\n",
        "# Plot the distribution\n",
        "plt.hist(normal_random_variable, bins=50, density=True)\n",
        "plt.title(\"Normal Distribution\")\n",
        "plt.xlabel(\"Value\")\n",
        "plt.ylabel(\"Density\")\n",
        "plt.show()\n"
      ],
      "metadata": {
        "colab": {
          "base_uri": "https://localhost:8080/",
          "height": 507
        },
        "id": "p2hg6qMtbWft",
        "outputId": "b616f7f8-d11a-4c2a-ccc3-90eb3ae4a79d"
      },
      "execution_count": null,
      "outputs": [
        {
          "output_type": "stream",
          "name": "stdout",
          "text": [
            "Mean: -0.015212713548230491\n",
            "Variance: 1.0045267907246644\n"
          ]
        },
        {
          "output_type": "display_data",
          "data": {
            "text/plain": [
              "<Figure size 640x480 with 1 Axes>"
            ],
            "image/png": "[encoded data removed]"
          },
          "metadata": {}
        }
      ]
    },
    {
      "cell_type": "markdown",
      "source": [
        "**Central Limit Theorem**"
      ],
      "metadata": {
        "id": "7WHlTt-KdsZ2"
      }
    },
    {
      "cell_type": "code",
      "source": [
        "# Parameters\n",
        "population_size = 100000  # Size of the population\n",
        "sample_size = 30  # Sample size\n",
        "n_samples = 1000  # Number of samples to draw\n",
        "\n",
        "# Generate a population from a non-normal distribution (e.g., Uniform Distribution)\n",
        "population = np.random.uniform(0, 10, population_size)\n",
        "\n",
        "# Function to calculate sample means\n",
        "def sample_means(population, sample_size, n_samples):\n",
        "    means = []\n",
        "    for _ in range(n_samples):\n",
        "        sample = np.random.choice(population, size=sample_size)\n",
        "        means.append(np.mean(sample))\n",
        "    return means\n",
        "\n",
        "# Calculate the sample means\n",
        "sample_means_list = sample_means(population, sample_size, n_samples)\n",
        "\n",
        "# Plot the original population distribution\n",
        "plt.subplot(1, 2, 1)\n",
        "plt.hist(population, bins=30, color='green', alpha=0.7)\n",
        "plt.title(\"Population Distribution (Uniform)\")\n",
        "\n",
        "# Plot the distribution of the sample means\n",
        "plt.subplot(1, 2, 2)\n",
        "plt.hist(sample_means_list, bins=30, color='blue', alpha=0.7)\n",
        "plt.title(\"Distribution of Sample Means\")\n",
        "\n",
        "plt.tight_layout()\n",
        "plt.show()\n",
        "\n",
        "# Check the mean and standard deviation of the sample means\n",
        "print(f\"Mean of population: {np.mean(population)}\")\n",
        "print(f\"Mean of sample means: {np.mean(sample_means_list)}\")\n",
        "print(f\"Standard deviation of population: {np.std(population)}\")\n",
        "print(f\"Standard deviation of sample means: {np.std(sample_means_list)}\")\n"
      ],
      "metadata": {
        "colab": {
          "base_uri": "https://localhost:8080/",
          "height": 556
        },
        "id": "THAC5OKFdrMg",
        "outputId": "58c206ad-620b-4d55-bcc4-0f22d4fa6ecd"
      },
      "execution_count": null,
      "outputs": [
        {
          "output_type": "display_data",
          "data": {
            "text/plain": [
              "<Figure size 640x480 with 2 Axes>"
            ],
            "image/png": "[encoded data removed]"
          },
          "metadata": {}
        },
        {
          "output_type": "stream",
          "name": "stdout",
          "text": [
            "Mean of population: 5.003144464433759\n",
            "Mean of sample means: 5.011630291125674\n",
            "Standard deviation of population: 2.8872259279160004\n",
            "Standard deviation of sample means: 0.4988336896812053\n"
          ]
        }
      ]
    },
    {
      "cell_type": "markdown",
      "source": [
        "Implementation of Point Estimators"
      ],
      "metadata": {
        "id": "SjTJpVw06aU5"
      }
    },
    {
      "cell_type": "code",
      "source": [
        "def sample_mean(data):\n",
        "    return sum(data) / len(data)\n",
        "\n",
        "# Example dataset\n",
        "data = [5, 7, 9, 10, 15]\n",
        "\n",
        "mean_estimate = sample_mean(data)\n",
        "print(f\"Sample Mean Estimate: {mean_estimate}\")\n"
      ],
      "metadata": {
        "colab": {
          "base_uri": "https://localhost:8080/"
        },
        "id": "z70-mD8Y6ct3",
        "outputId": "698f6120-c35e-45da-9c95-5fc4bb1aa9f8"
      },
      "execution_count": null,
      "outputs": [
        {
          "output_type": "stream",
          "name": "stdout",
          "text": [
            "Sample Mean Estimate: 9.2\n"
          ]
        }
      ]
    },
    {
      "cell_type": "code",
      "source": [
        "#using numpy\n",
        "\n",
        "mean_estimate_np = np.mean(data)\n",
        "print(f\"Sample Mean Estimate (NumPy): {mean_estimate_np}\")\n"
      ],
      "metadata": {
        "colab": {
          "base_uri": "https://localhost:8080/"
        },
        "id": "9cKKBDmX6g9W",
        "outputId": "d2d84390-b3f9-4943-a24e-2c350d13c3f8"
      },
      "execution_count": null,
      "outputs": [
        {
          "output_type": "stream",
          "name": "stdout",
          "text": [
            "Sample Mean Estimate (NumPy): 9.2\n"
          ]
        }
      ]
    },
    {
      "cell_type": "markdown",
      "source": [
        "HYPOTHESIS"
      ],
      "metadata": {
        "id": "X0Kx97wgDIbo"
      }
    },
    {
      "cell_type": "markdown",
      "source": [
        "One-Sample T-test (Comparing Sample Mean to Population Mean)\n",
        "Example: Suppose the average IQ in a population is 100. A group of 15 students was tested, and we want to check if their mean IQ differs significantly from 100."
      ],
      "metadata": {
        "id": "5Qi9lgBYDJ-Q"
      }
    },
    {
      "cell_type": "code",
      "source": [
        "import math\n",
        "from scipy import stats\n",
        "# Sample Data\n",
        "sample = [110, 98, 105, 102, 99, 101, 100, 104, 107, 97, 103, 108, 106, 95, 99]\n",
        "population_mean = 100\n",
        "\n",
        "t_stat, p_value = stats.ttest_1samp(sample, 100)\n",
        "print(f\"T-statistic: {t_stat}, P-value: {p_value}\")\n",
        "\n",
        "# Decision\n",
        "alpha = 0.05\n",
        "if p_value < alpha:\n",
        "    print(\"Reject the null hypothesis: The sample mean is significantly different from 100\")\n",
        "else:\n",
        "    print(\"Fail to reject the null hypothesis: No significant difference\")\n"
      ],
      "metadata": {
        "colab": {
          "base_uri": "https://localhost:8080/"
        },
        "id": "kdwCnldKDM4Y",
        "outputId": "5f0c1dd0-7ad9-4e39-fff7-80bfc10dcbc2"
      },
      "execution_count": null,
      "outputs": [
        {
          "output_type": "stream",
          "name": "stdout",
          "text": [
            "T-statistic: 2.0104621463628805, P-value: 0.06405358643829108\n",
            "Fail to reject the null hypothesis: No significant difference\n"
          ]
        }
      ]
    },
    {
      "cell_type": "markdown",
      "source": [
        "conclude that the students’ mean IQ is significantly different."
      ],
      "metadata": {
        "id": "1gn_vOUfE5g8"
      }
    },
    {
      "cell_type": "markdown",
      "source": [
        "Two-Sample T-test (Comparing Two Means)\n",
        "Example: Suppose we have test scores of students from two different classes. We test if their averages are significantly different."
      ],
      "metadata": {
        "id": "pgoAXQNPEjJ9"
      }
    },
    {
      "cell_type": "code",
      "source": [
        "class1 = [78, 85, 89, 90, 84, 79, 82, 87, 88, 91]\n",
        "class2 = [76, 80, 83, 85, 82, 78, 79, 84, 86, 88]\n",
        "\n",
        "t_stat, p_value = stats.ttest_ind(class1, class2)\n",
        "print(f\"T-statistic: {t_stat}, P-value: {p_value}\")\n",
        "\n",
        "if p_value < 0.05:\n",
        "    print(\"Reject the null hypothesis: There is a significant difference between the two classes\")\n",
        "else:\n",
        "    print(\"Fail to reject the null hypothesis: No significant difference\")\n"
      ],
      "metadata": {
        "colab": {
          "base_uri": "https://localhost:8080/"
        },
        "id": "NI4I2K-TElhj",
        "outputId": "ef6b9e24-b3b7-490c-a889-f7309c7b53a8"
      },
      "execution_count": null,
      "outputs": [
        {
          "output_type": "stream",
          "name": "stdout",
          "text": [
            "T-statistic: 1.7104719482395176, P-value: 0.10435850875561872\n",
            "Fail to reject the null hypothesis: No significant difference\n"
          ]
        }
      ]
    },
    {
      "cell_type": "markdown",
      "source": [
        "the two classes have significantly different means."
      ],
      "metadata": {
        "id": "zywESxujE-5o"
      }
    },
    {
      "cell_type": "markdown",
      "source": [
        "Chi-Square Test (For Categorical Data)\n",
        "Example: Are gender and product preference independent?"
      ],
      "metadata": {
        "id": "a7QzMmM9FJI-"
      }
    },
    {
      "cell_type": "code",
      "source": [
        "# Observed frequency table\n",
        "observed = np.array([[30, 10], [20, 40]])\n",
        "\n",
        "chi2_stat, p_value, dof, expected = stats.chi2_contingency(observed)\n",
        "\n",
        "print(f\"Chi-Square Statistic: {chi2_stat}, P-value: {p_value}\")\n",
        "if p_value < 0.05:\n",
        "    print(\"Reject H0: Gender and product preference are dependent\")\n",
        "else:\n",
        "    print(\"Fail to reject H0: No significant relationship\")\n"
      ],
      "metadata": {
        "colab": {
          "base_uri": "https://localhost:8080/"
        },
        "id": "eJg7XBjeFLMe",
        "outputId": "76ee22dd-ee42-4bc9-8e63-14aea83eeaa6"
      },
      "execution_count": null,
      "outputs": [
        {
          "output_type": "stream",
          "name": "stdout",
          "text": [
            "Chi-Square Statistic: 15.041666666666666, P-value: 0.00010516355403363098\n",
            "Reject H0: Gender and product preference are dependent\n"
          ]
        }
      ]
    },
    {
      "cell_type": "markdown",
      "source": [
        "product preference are significantly related."
      ],
      "metadata": {
        "id": "pCcN7gHjFQfU"
      }
    },
    {
      "cell_type": "markdown",
      "source": [
        "ANOVA (Comparing More Than Two Groups)\n",
        "Example: Compare test scores from three different schools."
      ],
      "metadata": {
        "id": "x-HrQC9kFXou"
      }
    },
    {
      "cell_type": "code",
      "source": [
        "school1 = [78, 85, 89, 90, 84]\n",
        "school2 = [76, 80, 83, 85, 82]\n",
        "school3 = [72, 75, 78, 80, 79]\n",
        "\n",
        "f_stat, p_value = stats.f_oneway(school1, school2, school3)\n",
        "print(f\"F-statistic: {f_stat}, P-value: {p_value}\")\n",
        "\n",
        "if p_value < 0.05:\n",
        "    print(\"Reject H0: At least one school has significantly different scores\")\n",
        "else:\n",
        "    print(\"Fail to reject H0: No significant difference among schools\")\n"
      ],
      "metadata": {
        "colab": {
          "base_uri": "https://localhost:8080/"
        },
        "id": "wZ0gX6bzFZd_",
        "outputId": "f582c701-109c-4b87-9385-b787c554e5a9"
      },
      "execution_count": null,
      "outputs": [
        {
          "output_type": "stream",
          "name": "stdout",
          "text": [
            "F-statistic: 5.871396895787136, P-value: 0.016668501269710905\n",
            "Reject H0: At least one school has significantly different scores\n"
          ]
        }
      ]
    },
    {
      "cell_type": "markdown",
      "source": [],
      "metadata": {
        "id": "OwZRf1HnFnD5"
      }
    }
  ]
}